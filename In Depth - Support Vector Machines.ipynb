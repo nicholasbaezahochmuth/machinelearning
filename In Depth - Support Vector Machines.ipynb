{
 "cells": [
  {
   "cell_type": "code",
   "execution_count": 1,
   "metadata": {
    "collapsed": true
   },
   "outputs": [],
   "source": [
    "%matplotlib inline\n",
    "import numpy as np\n",
    "import matplotlib.pyplot as plt"
   ]
  },
  {
   "cell_type": "markdown",
   "metadata": {},
   "source": [
    "### Support Vector Machines\n",
    "\n",
    "SVM stands for \"support vector machines\". They are efficient and easy to use estimators. They come in two kinds: SVCs (Support Vector Classifiers) for classification, and SVRs (Support Vector Regressors) for regression.\n",
    "\n",
    "### Linear SVMs\n",
    "\n",
    "The SVM module contains `LinearSVC()`. Using `SVC(kernel = \"linear\")` will also yield a linear predictor different in minor technical aspects.\n",
    "\n",
    "### Kernel SVMs\n",
    "\n",
    "The power of SVMs lies in using *kernels*, which allow for non-linear decision boundaries. A kernal defines a similarity measuer between data points. \n",
    "\n",
    "Some common kernels:\n",
    "* **linear** - will give a linear decision frontier. It is the most computationally efficient approach.\n",
    "* **poly** - will give decision frontiers that are polynomial. The order given by the `order` argument.\n",
    "* **rbf** - uses 'radial basis functions' centered at each support vector to assemble a decision frontier. The size of the RBFs controls the smoothness of the decision frontier. RBFs are the most flexible but require the most data.\n",
    "\n",
    "Predictions in a kernel-SVM are made using the formula:\n",
    "\n",
    "$$ \\hat y = sign(\\alpha_{0} + \\Sigma_{j} \\alpha_{j} y_{j} k(x^{(j)}, x)) $$\n",
    "\n",
    "where $x^{(j)}$ are training samples, $y^{(j)}$ the corresponding labels, $x$ is a test-sample to predict on, $k$ is the kernel, and $\\alpha$ are learned parameters."
   ]
  },
  {
   "cell_type": "code",
   "execution_count": null,
   "metadata": {
    "collapsed": true
   },
   "outputs": [],
   "source": []
  }
 ],
 "metadata": {
  "kernelspec": {
   "display_name": "Python 2",
   "language": "python",
   "name": "python2"
  },
  "language_info": {
   "codemirror_mode": {
    "name": "ipython",
    "version": 2
   },
   "file_extension": ".py",
   "mimetype": "text/x-python",
   "name": "python",
   "nbconvert_exporter": "python",
   "pygments_lexer": "ipython2",
   "version": "2.7.12"
  }
 },
 "nbformat": 4,
 "nbformat_minor": 0
}
