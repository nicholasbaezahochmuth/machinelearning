{
 "cells": [
  {
   "cell_type": "code",
   "execution_count": 1,
   "metadata": {
    "collapsed": true
   },
   "outputs": [],
   "source": [
    "%matplotlib inline\n",
    "import matplotlib.pyplot as plt\n",
    "import numpy as np\n",
    "np.set_printoptions(precision=2)"
   ]
  },
  {
   "cell_type": "code",
<<<<<<< HEAD
   "execution_count": 2,
=======
<<<<<<< HEAD
   "execution_count": 2,
=======
   "execution_count": 3,
>>>>>>> master
>>>>>>> master
   "metadata": {
    "collapsed": false
   },
   "outputs": [
    {
     "name": "stdout",
     "output_type": "stream",
     "text": [
<<<<<<< HEAD
      "Accuracy: 0.948888888889\n"
=======
<<<<<<< HEAD
      "Accuracy: 0.953333333333\n"
=======
      "Accuracy: 0.948888888889\n"
>>>>>>> master
>>>>>>> master
     ]
    }
   ],
   "source": [
    "from sklearn.datasets import load_digits\n",
    "from sklearn.model_selection import train_test_split\n",
    "from sklearn.svm import LinearSVC\n",
    "\n",
    "digits = load_digits()\n",
    "X, y = digits.data, digits.target\n",
    "X_train, X_test, y_train, y_test = train_test_split(X, y, \n",
    "                                                   random_state = 1,\n",
    "                                                   stratify=y,\n",
    "                                                   test_size=0.25)\n",
    "classifier = LinearSVC(random_state=1).fit(X_train, y_train)\n",
    "y_test_pred = classifier.predict(X_test)\n",
    "\n",
    "print \"Accuracy: {}\".format(classifier.score(X_test, y_test))"
   ]
  },
  {
   "cell_type": "code",
<<<<<<< HEAD
   "execution_count": 3,
=======
<<<<<<< HEAD
   "execution_count": 3,
=======
   "execution_count": 4,
>>>>>>> master
>>>>>>> master
   "metadata": {
    "collapsed": false
   },
   "outputs": [
    {
     "data": {
      "text/plain": [
       "array([[44,  0,  0,  0,  1,  0,  0,  0,  0,  0],\n",
<<<<<<< HEAD
=======
<<<<<<< HEAD
       "       [ 0, 46,  0,  0,  0,  0,  0,  0,  0,  0],\n",
       "       [ 0,  1, 43,  0,  0,  0,  0,  0,  0,  0],\n",
       "       [ 0,  0,  0, 46,  0,  0,  0,  0,  0,  0],\n",
       "       [ 0,  2,  0,  0, 41,  0,  0,  1,  0,  1],\n",
       "       [ 0,  0,  0,  0,  0, 43,  1,  1,  0,  1],\n",
       "       [ 0,  0,  0,  0,  0,  1, 44,  0,  0,  0],\n",
       "       [ 0,  1,  0,  0,  1,  0,  0, 42,  1,  0],\n",
       "       [ 0,  4,  0,  1,  0,  0,  0,  0, 37,  1],\n",
       "       [ 0,  0,  0,  0,  0,  1,  0,  0,  1, 43]])"
      ]
     },
     "execution_count": 3,
=======
>>>>>>> master
       "       [ 0, 42,  0,  0,  0,  0,  0,  0,  4,  0],\n",
       "       [ 0,  0, 44,  0,  0,  0,  0,  0,  0,  0],\n",
       "       [ 0,  0,  0, 45,  0,  0,  0,  0,  0,  1],\n",
       "       [ 0,  0,  0,  0, 42,  0,  0,  1,  0,  2],\n",
       "       [ 0,  0,  0,  0,  0, 43,  1,  1,  0,  1],\n",
       "       [ 0,  0,  0,  0,  0,  1, 44,  0,  0,  0],\n",
       "       [ 0,  0,  0,  0,  1,  0,  0, 42,  1,  1],\n",
       "       [ 0,  2,  0,  1,  0,  1,  0,  0, 36,  3],\n",
       "       [ 0,  0,  0,  0,  0,  0,  0,  0,  0, 45]])"
      ]
     },
<<<<<<< HEAD
     "execution_count": 3,
=======
     "execution_count": 4,
>>>>>>> master
>>>>>>> master
     "metadata": {},
     "output_type": "execute_result"
    }
   ],
   "source": [
    "# For multi-class problems, it can be interesting to know which classes are hardest\n",
    "# to predict, which are easy, and which get confused. One way is with a confusion_matrix\n",
    "\n",
    "from sklearn.metrics import confusion_matrix\n",
    "confusion_matrix(y_test, y_test_pred)"
   ]
  },
  {
   "cell_type": "code",
<<<<<<< HEAD
   "execution_count": 4,
=======
<<<<<<< HEAD
   "execution_count": 4,
=======
   "execution_count": 5,
>>>>>>> master
>>>>>>> master
   "metadata": {
    "collapsed": false
   },
   "outputs": [
    {
     "data": {
      "text/plain": [
<<<<<<< HEAD
       "<matplotlib.text.Text at 0xa6cea20>"
      ]
     },
     "execution_count": 4,
=======
<<<<<<< HEAD
       "<matplotlib.text.Text at 0x11256ac50>"
      ]
     },
     "execution_count": 4,
=======
       "<matplotlib.text.Text at 0xa243be0>"
      ]
     },
     "execution_count": 5,
>>>>>>> master
>>>>>>> master
     "metadata": {},
     "output_type": "execute_result"
    },
    {
     "data": {
<<<<<<< HEAD
      "image/png": "iVBORw0KGgoAAAANSUhEUgAAAP8AAADdCAYAAAB0bKT3AAAABHNCSVQICAgIfAhkiAAAAAlwSFlz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\n8sbvXIvyxu9ci/r/QXui8waiKaUAAAAASUVORK5CYII=\n",
      "text/plain": [
       "<matplotlib.figure.Figure at 0x3dfe390>"
=======
<<<<<<< HEAD
      "image/png": "iVBORw0KGgoAAAANSUhEUgAAAP8AAADdCAYAAAB0bKT3AAAABHNCSVQICAgIfAhkiAAAAAlwSFlz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\nXIvyyu9ci/LK71yL8srvXIvyyu9ci/r/mt3+O2auUo4AAAAASUVORK5CYII=\n",
      "text/plain": [
       "<matplotlib.figure.Figure at 0x10cb7c210>"
=======
      "image/png": "iVBORw0KGgoAAAANSUhEUgAAAP8AAADdCAYAAAB0bKT3AAAABHNCSVQICAgIfAhkiAAAAAlwSFlz\nAAALEgAACxIB0t1+/AAAHEJJREFUeJzt3XucHFWZ//HPdyZA7hLckKwEAspNWDTJz4RLjITlIoIL\nyK4uF7mvsmIkC64/kUUjV4WXxAvoz+ViNiAoEskCu7gkyOZGJBeSkBASQGIgCWQAiUKIxpA8vz/q\nTOg0093V1VVd3dPPm1e/prum6jlnMpw5p6pOPUdmhnOu9bTlXQHnXD688TvXorzxO9eivPE716K8\n8TvXorzxO9eiGr7xSzpe0kpJz0r6asIYt0vqkLS0xroMkfSopOWSlkm6OGGcXSTNk7Q4xJlQQ53a\nJC2S9EANMVZLejLUZ34Ncd4j6V5JK8K/0aEJYuwf6rEofP1jDf/Ol0h6StJSSXdJ2jlhnPHh95T4\nd96QzKxhX0R/nH4LDAV2ApYAByaI81FgGLC0xvoMBoaF932BZ5LUJxzfO3xtBx4HRiWMcwnwU+CB\nGn6uVcCAFH5f/wGcF973APqn8Pt/CdgzwbHvCz/XzuHzPcDZCeIcDCwFdgm/q2nA+2v9t2qEV6P3\n/KOA58zsBTPbAvwcOLnaIGY2B9hQa2XMbL2ZLQnvNwIrgD0SxtoU3u5C1FCqnm0laQhwAnBbkjoU\nhqLGUaCk/sAYM5sEYGZvm9kbNdbrGOB5M1uT8Ph2oI+kHkBvoj8k1fogMM/MNpvZVmAWcGrC+jSU\nRm/8ewCFv/i1JGxsaZO0N9FoYl7C49skLQbWA9PNbEGCMN8FvkKCPxxFDJguaYGkzyWMsQ/wmqRJ\nYch+i6ReNdbrH4GfJTnQzF4CbgReBNYBfzCzRxKEegoYI2mApN5Ef2z3TFKnRtPojb8hSeoLTAHG\nhxFA1cxsm5kNB4YAh0o6qMo6nAh0hJGIwiup0WY2guh/7C9K+miCGD2AEcAPQ6xNwGVJKyRpJ+Ak\n4N6Ex+9KNEocSnQK0FfSGdXGMbOVwPXAdOAhYDGwNUmdGk2jN/51wF4Fn4eEbbkJQ8gpwJ1mdn+t\n8cLQ+H+B46s8dDRwkqRVRL3jUZLuSFiHl8PXV4GpRKdb1VoLrDGzheHzFKI/Bkl9Angi1CmJY4BV\nZvZ6GK7fBxyRJJCZTTKzj5jZWOAPwLMJ69RQGr3xLwD2lTQ0XKk9DUh6VbvW3rHTT4Cnzez7SQNI\n+itJ7wnvewHHAiuriWFml5vZXmb2fqJ/l0fN7OwEdekdRjJI6gMcRzTUrYqZdQBrJO0fNh0NPF1t\nnAKnk3DIH7wIHCappySF+qxIEkjSwPB1L+BTwN011Kth9Mi7AuWY2VZJ44iusLYBt5tZ1b9ASXcD\nY4H3SnoRmNB5YarKOKOBM4Fl4XzdgMvN7H+qDPXXwGRJbUQ/1z1m9lC19UnJIGCqJCP6/+EuM5uW\nMNbFwF1hyL4KOC9JkHBufQzw+YT1wMzmS5pCNEzfEr7ekjDcLyXtFuJclMKFzIagcDvDOddiGn3Y\n75zrQufdos7JXZImSFob7rQsklTxGlJDD/udcyWNB5YD/Qu2TTSziXEDeM/vXJMpM7mrqgva3vid\naz6lJneNk7RE0m2dd5PKaYhhf7jS7FzTM7NYva927m9sebPSbh1mNniH4womd0kaW/CtHwFXmZlJ\nugaYCFxQtg6NcLVfkvUceWnZfbasm8tOe5Sfo7Fh7o1lv3/NVd/kim98s9rq5R7n7a3byn7/uquv\n5PKvl38wsEd75UFeI/37NFJd4sbptZPiN37Jeg7/Utl9/rz4pnfFk3Qd8FngbaAX0A+4r3COh6Sh\nwINm9qFy8X3Y71xepPKvLpSa3CWpcIRwKjEmajXEsN+5lqRU+94bJA0DtgGrgQsrHdA0jb+tX+0P\nUn3syLG1V6QB44z52JGpxGmkn6uR6pJmnB20tdd0uJnNBGaG99VP7c76nD9MNvge70zPvb6LfSqe\n88dR6Zy/WVU6548jzjm/q03V5/yj/rXsPn+e/53Y8ZLItOcPc9dvJnqo4iVggaT7w2OSzrW2Gnv+\nmovPOH4qmXic65bUVv6VsazP+bvKxJPkWXHnup+ce/6GueC3Zd3c7e/b+u1Je/9ukSnJdWOzZs5g\n1swZyQOUuJ1XL1k3/tiZeCpN4HGu0XzsyLE73AW49uorqwtQh6F9OVk3/u2ZeICXiSYlnJ5xmc41\nh/ZuPOxPKxOPc91SN+/5CSmuDsi6HOeajl/wc65FdfMLfs65Urr5JB/nXCk1TPIpXqA1rCg0TdIz\nkh5ummQekM68/AHHXZdCTWDDtMtTiZMWn5df2usb/5JKnN36JlrAtza19fzjidZF6MzhdxnwiJnd\noGg1669RYcUk/7/KubwkeJ4/OqzLHH4nA5PD+8nAKZWKb5ie37mWk/xWX2cOv8Kh/aCwahJmtl7S\n7pWCeON3Li9Fw/6trz3Ltt+XXwawTA6/YhWf1ffG71xeinr+9oEH0j7wwO2ftz7b5QpunQu0nkDI\n4SfpTmC9pEFm1hFSer1SqXg/53cuL23t5V9dKJHD7yzgQeDcsNs5QMUVpDNt/JJul9QhaWmW5TjX\nlBJe8Cvh28Cxkp4hSp7z7UoHZD3snwTcBCRaN9657qytrba+tyiH3+tEKxvHL7+m0iswsznAhizL\ncK5pqcIrY37Bz7mcyOf2R6656pvb3xcnSXCuEdWayafWYX+t6pG6u+LSQZLsT1tqr0d3nd7rSmuk\n6b3Vpu7uf1r5S2Fv/Pzs5k3dHdTpDMa55qK2fJtF1rf67gbmAvtLelHSeVmW51wzkVT2lbWs03id\nkWV855pZ3uf8DXPBz7mWk/PJsDd+53Lit/qca1E+7E9RWrfoBhzx5VTidNdVgxtJLhl40pLzsN+f\n6nMuJ21tbWVfXZG0i6R5khZLWiZpQtg+QdLakNdvkaTjK5XfrXp+55pJknN+M9ss6Sgz2ySpHXhM\n0q/Ctyea2cS4sbzxO5eTpJN8zGxTeLsLURvunB5bVUAf9juXk6STfELa7sXAemC6mS0I3xonaYmk\n25oqdbdzrab4vP7P65axed1TFY8zs23AcEn9gamSDgJ+BFxlZibpGmAicEG5OJk2/pBi+A5gELAN\nuNXMfpBlmc41jaLOveeQQ+g55JDtn99ceE/Zw83sDUkzgOOLzvVvJUrrVVbWw/63gUvN7GDgcOCL\nkg6scIxzLSHJsF/SX3UO6SX1Ao4FVoaknZ1OBSoOIbKe27+e6LwEM9soaQWwB7Ayy3KdawYJJ/n8\nNTBZUhtR532PmT0k6Q5Jw4hG2KuBCysFqts5v6S9gWHAvHqV6VwjS3irbxkwoovtZ1cbqy6NX1Jf\nYAow3sw2drWPZ/JxzabWTD55P89fj0w+PYD/An5lZt8vsU8qmXzS4tN7XRLVZvJ5/6VdLsqx3aqJ\nJzR9Jp+fAE+XavjOtaq2bp7JZzRwJvC3YS5yrDnHzrWCdNfsqF7WV/sfA2pahNy57sqf53euRbW3\ne+N3riXl3PF743cuL3lf8PPG34W0btENGDkulTgbFtycShxX2ttbt9W9TD/nd65Fec/vXIvKu+f3\nZB7O5STJff4yOfwGSJom6RlJD8dJ5uGN37mctLWp7KsrZrYZOMrMhhM9KPcJSaOAy4BHzOwA4FHg\naxXLT+9Hcc5VI2karxI5/E4GJoftk4FTKpWf9fTeLocozrlkPT+UzOE3yMw6YHsejd0rlZ/19N4u\n0wyb2fwsy3WuGRR37m+sWswbq5ZUPK6LHH4H804G3+27VYqT+dX+MmmGnWtpxb37rvuOYNd938nT\nse7Xk4sP2UFhDj+gQ9IgM+sIKb1eqVh+gjpXpUyaYedaWoo5/FYADwDnht3OAe6vVH49ev7CIcp/\nSjrIzJ4u3s8z+bhmM3vmDGbPmpn4+IS3+Uvl8Hsc+IWk84EXgM9ULD/rTD47FCZ9HXireEmhRsvk\nkxaf3ts80pje269ne1WZfMbcOKfsPrO//NFMM/lkfbW/yzTDWZbpXLNo2GQeYZhekpm9ESN+l0OU\n6qroXPfUyHP7lxNdmS+sYednA/aqFLxUmmHnXP5z+0s2fjPbs54Vca7VtDdDAk9Jp0m6PLwfIun/\nZFst57q/vM/5KzZ+STcDRwFnhU2bgB9nWSnnWkF7m8q+shbnPv8RZjYiTNTBzF6XtHPG9eoW0rpF\nN+C462qOsWHa5SnUJD1pZc7p0Z7ODastW+t/q7lhz/kLbAlX6w1A0nuJFgN0ztWgGRJ4/hD4JTBQ\n0pVEM4euzLRWzrWA9kbv+c3sDklPAMeETZ82s4prfzvnymuGYT9Eq+5sIRr6ewIQ51LQ8Lf6JP0b\n8DPgfcAQ4G5JFVMEOefKS5jDb4ikRyUtDwlyvhS2T5C0NqyHGWtNzDg9/9nA8M7n8iVdCywGvhX/\nh1QbsBBYa2YnxT3Oue4s4fTet4FLzWyJpL7AE5Kmh+9NLH5orpw4jf/lov16hG3VGA88DZR9XsC5\nVtKW4Jw/pOhaH95vlLQC2CN8u6qAJYf9kr4raSLwOrBc0m2SbgWWAa/FLUDSEOAE4LZqKuZcd6cK\nr4rHS3sTZfCdFzaNk7QktNWKqbvL9fydV/SXA/9dsP3xGPUq9F3gK0DFyjjXSoov+HWsWEjHioWx\njg1D/inA+DAC+BFwlZmZpGuAicAF5WKUe7Dn9li1KF/BE4GOcH4yljJ/0DyTj2s2c2bNYM7sWjL5\n7NgcBh80ksEHjdz++an//PdSx/Ugavh3mtn9AGb2asEutwIPViy/UiYfSR8ArgUOAnp2bjez/SsG\nl64DPkt0kaIX0A+4z8zOLtqvW2bySYtP7y0trem9f/rL1ppj7NanR1WZfM6668my+9x55oe7jCfp\nDuA1M7u0YNvgcD0ASZcAI83sjHLx41zw+w/gGuA7wCeA84iZgdfMLgc6nwY8EvhyccN3rlUludgv\naTRwJrAsPG9jRG3sDEnDiKberwYurBQrTuPvbWYPS/qOmT0PXCFpIfD16qvunOuU8Gr/Y0ST7or9\nT7Wx4jT+zeE+/fOS/hlYRzR8r4qZzQSSnyA5180kafxpitP4LwH6ABcTnfu/Bzg/y0o51woa/qk+\nM+u8h/gm7yT0cM7VqGETeEqaSpkLe2Z2aiY1cq5FNPKw31eKaBBp3KYbMPaKFGoCr/76qlTiNJqd\n2uvfEBu25zezX9ezIs61mryfjc98rT7nXNfyfp7fG79zOcm57cdv/JJ2MbPNWVbGuVaSdxqvOJl8\nRklaBjwXPn9Y0k1xC5C0WtKTkhZLml9DXZ3rVtrbyr+yFqeIHwCfBH4PYGZPEi3iEdc2YKyZDTez\nUdVX0bnuqU0q++pKF2m8Lg7bB0iaJukZSQ/HeZ4/TuNvM7MXirZV8wiUYpbjXEtpV/lXCZ1pvA4G\nDge+KOlA4DLgETM7AHgUqJhnM06jXCNpFGCS2iX9C/BsjOM6GTBd0gJJn6viOOe6tSQ9v5mtN7Ml\n4f1GYAVRYt2Tgclht8nAKZXKj3PB7wtEQ/+9gA7gkbAtrtFm9rKkgUR/BFaY2ZzinTyZh2s2s2fO\nYPas5M+q1XpeX5DG63FgkJl1QPQHQtLuFY+vlMwjTZImAG8WZxj1ZB7Z664z/NJK5pFGcpF+Pdur\nSuZx5bTndtj2uyfnsfrJeds/z/jpTSXjhTReM4Crzex+Sa+b2W4F3/+9mb23XB0q9vwhaee7WqaZ\nfT7Gsb2JrhlslNQHOA5f6ss54N09/77DD2Xf4Ydu/zzjp13fVOsqjRfQIWmQmXVIGgy8Uqn8OMP+\nRwre9wQ+BayJcRzAIGCqJAtl3WVm02Ie61y3puoybRf6CfC0mX2/YNsDwLnA9cA5wP1dHLeDOI/0\n3lP4WdKdwLvO2Usc+zuicxLnXJGU03hdD/xC0vnAC0QL6paVZHrvPkQ9unOuBknm9pdJ4wXvLKYb\nS5xz/g28c87fRrSIx2XVFOKce7eGntuvaPLxh4ny9gFss3reHnCuG8v7qb6y90lCQ3/IzLaGlzd8\n51LSpvKvrMU5518iabiZLc68Ni4zad2fHzjmK6nE2TD3xlTipCWt+QLVaG/UNF6SepjZ28BwYIGk\n54G3iObqm5mNqFMdneuWGjl773xgBHBSneriXEtp5At+Agir9DjnUpb3Bb9yjX+gpEtLfbN4fr5z\nrjqNnLq7HehLmWW14whJBW4D/oYoscf5BQuBONeycsgWvoNyjf9lM0vjEvH3iW4Xfjo8kNA7hZjO\nNb28c/hVPOevhaT+wBgzOxcg3D14o9a4znUHed/qK3dz8+gU4u8DvCZpkqRFkm6R1CuFuM41PVV4\ndXmMdLukDklLC7ZNkLQ2tLFFko6PU365FXtej/tDVIg/AviimS2U9D2i5wImFO/omXxcs5k1cwaz\nZs5IfHzCjn8ScBNwR9H2idVehM960Y61wBozWxg+TwG+2tWOV3zjmxlXxbl0FXdS115dXZ6aJMN+\nM5sjaWgX36o6WKZzGkNOsTWS9g+bjgaezrJM55qFpLKvKo2TtETSbXHSdkN9luu6GLhL0k7AKuC8\nOpTpXMMrvs+/fMFcli+cmyTUj4CrzMwkXQNMBC6odFDmjT8s8jEy63KcazbFw+5DRh7BISOP2P75\n3n+PdwpvZq8WfLwVeDDOcb5Qp3M5qWGG3w43BCQNNrP14eOpwFNxgnjjdy4nSdq+pLuBscB7Jb1I\ndOfsKEnDiGbQrgYujBPLG79zOUl4tf+MLjZPSlK+N37nclJD6u5UeONvAmmsJpNWppq0MvAMOO66\nVOK8+qvmzSXbyMk8nHMZyntuvzd+53LiPb9zLcp7fudaVN4X/DKd2y9pf0mLw2OGiyX9UdLFWZbp\nXLNok8q+spZpz29mzxKl/kZSG9FTflOzLNO5ZtHI2XvTdgzwvJnFXd7buW4t72F/PRv/PwI/q2N5\nzjW0luj5w+O8J1FmdV/P5OOazeyZM5g9a2bi4/NO3a16rL0p6STgIjPrMreYJPvTFl8DtJRGmuGX\nlu44w69fz3bMLFaLlmS/+e2Gsvscvu+Ad8WTdDvwSaDDzD4Utg0A7gGGEj3Y8xkz+2OlOtTr/4jT\n8SG/cztQhf9KmAR8vGjbZcAjZnYA8CjwtTjlZ974JfUmuth3X9ZlOddMkizRbWZzgOIhw8nA5PB+\nMnBKnPLrkclnEzAw63KcazrpnfLvHvJlYmbrJe0e5yCf4edcToqH9k88PpsnHp+TRuhYF9C88TuX\nk+Kh/cjDxzDy8DHbP9/6g2/HDdUhaZCZdUgaDLwSq/y40Z1zKUuyZM+OR3Z6ADg3vD8HuD9O8d7z\nO5eTJPf5S+Tw+zZwr6TzgReAz8SKVY/7/BUrkdJ9/j/9ZWsKtYFeO7enEieN+/OQzj36RqpLmvb+\nwpRU4iydeHLNMQb137mq+/xLXii/Zu2wof1jx0vCe37nctLIS3Q75zLkmXyca1E5t31v/M7lJe9h\nfz2m914i6SlJSyXdJWnnrMt0rhlI5V9ZyzqN1/uALwEjwhNIPYDTsizTuWaRd+Ovx7C/HegjaRvQ\nG3ipDmU61/DyzuSTac9vZi8BNwIvAuuAP5jZI1mW6VyzSPJUX5oy7fkl7Ur0uOFQ4I/AFElnmNnd\nxft6Jh/XbB6bPZO5s5Nn8sn7cn+mM/wk/QPwcTP7XPh8FnComY0r2s9n+JXhM/xKa+YZfs91bCq7\nz36Demc6wy/r3+SLwGGSeiq6r3E0sCLjMp1rCsmf60lH1nn750uaAiwGtoSvt2RZpnNNI2ELl7Sa\n6DR6G7DFzEYliVOPTD5XAldmXY5zzaaG7L3bgLFmVj4DaAU+w8+5nNQwtBcpnLI31tUb51qIpLKv\nMgyYLmmBpM8lLd97fudyUty+fzNnJo8/NivOoaPN7GVJA4n+CKwIWX2r4o3fuZwUT+QZPeZIRo85\ncvvn791wbZfHmdnL4eurkqYCo4DWbvxp3Z9PSyPdE2+kuqRp9f/7h1TiDBg5rvJOqUuUxqs30GZm\nGyX1AY4j4QX1btX4nWsmCS/2DwKmSjKi9nuXmU1LEsgbv3M5STJ/38x+BwxLo3xv/M7lJO+n+rzx\nO5eTvHP41SOTz3hJy8Lr4qzLc65Z5J3MI+tMPgcDFwAfITpP+aSk92dZpnPNooZJPqnIuuf/IDDP\nzDab2VZgFnBqxmU61xTyfqov68b/FDBG0oBwf/IEYM+My3SuKeQ97M/6kd6Vkq4HpgMbiR7p7TLj\nhmfycc1m65vr2LZxXeLja3iqLxV1XatP0rXAGjP7cdH2VDL5OJdUGjP8/rzkh1Vl8nn9rbfL7rNb\nnx7NvVafpIFhDvJewKeAw7Iu07lmkHfPX4/7/L+UtBtRJp+LzKz80qTOtYi87/PXI5PPx7Iuw7lm\nlHfjb5pHvWbNnNEQMTxOfeI0Ul0guriXNlX4r+Rx0vGSVkp6VtJXk5bvjd/jNGScRqoLUNNV/VKS\n3OqT1AbcDHwcOBg4XdKBScpvmsbvXHeT8D7/KOA5M3vBzLYAPydaGKdq3vidy0nCYf8ewJqCz2vD\nturLr+d9/pKViBITONf0qrjPv5poGbtyOsxscNFxf0+0Ctbnw+fPAqPMrOqH5hrikd4sJzI414jM\nbO+Eh64D9ir4PCRsq5oP+51rLguAfSUNlbQzcBrwQJJADdHzO+fiMbOtksYB04g679vNLNH6lw1x\nzu+cqz8f9jvXorzxZ0DSVkmLQuqyeyT1rCHWkZIeDO//TtL/LbPveyR9IUEZEyRdGnd70T6TJMVO\n0BLOVZdVW0eXPm/82XjLzEaY2SFEDzT9c/EOqi5PkwGY2YNmdkOZ/QYAF1VV03z4uWYD8Mafvdm8\nc3V2paTJoecbIulYSXMlLQwjhN6wfe72CkkLKUh7JukcSTeF97tLuk/SEkmLJR0GfAv4QBh1XB/2\n+1dJ88N+Ewpi/ZukZyTNAg6o9ENI+qcQZ7Gke4tGM8eGRSNXSjox7N8m6QZJ80LZiReUdNnwxp8N\nAUjqAXwC6Bzm7gfcHEYEm4ArgKPN7CPAE8ClknYBbgFODNsHF8Xu7DV/AMwws2HACGA5cBnw2zDq\n+KqkY4H9zGwUMBz4iKSPShoBfAb4EHAiMDLGz/RLMxtlZsOBlUSJWTsNNbORwCeBH4dbUBcAfzCz\nQ4mmpH5eUqVJLa6O/FZfNnpJWhTezwZuJ5qCudrMFoTthwEHAY+FU4CdgN8ABwKrzGxV2O+nQFe9\n5t8CZwFYdMvmzZA3odBxRL3yIqI/SH2I/gD1B6aa2WZgs6Q494k/JOlqYNcQ5+GC7/0i1OO3kp4P\nP8NxwCGSPh326R/Kfi5GWa4OvPFnY5OZjSjcEE7x3yrcBEwzszOL9vsw8ZK3xjlvFvAtM7u1qIzx\nMY4tNgk4ycyeknQOcGTB9wrrovBZwJfMbHpR2d77Nwgf9mejVOMt3P44MFrSByBafVXSfkRD6qGS\n9gn7nV4i1q8JF/fC+XV/4E2gX8E+DwPnh9VckfQ+RWu6zwJOkbSLpH7A38X4mfoC6yXtBJxZ9L1P\nK/IBYB/gmVD2ReHUB0n7SerVxb+Dy4n3/Nko1Stv325mr0k6F/hZOM834Aoze07ShcBDkt4iOm3o\n20WsfwFukXQB8DbwBTObFy4gLgV+Fc77Pwj8Jow83gQ+a2aLJf0CWAp0APNj/EzfCPu9Asxjxz8y\nL4bv9QMuNLO/SLoN2BtYFE5rXgFOqfDv4+rIZ/g516J82O9ci/LG71yL8sbvXIvyxu9ci/LG71yL\n8sbvXIvyxu9ci/r/QXui8waiKaUAAAAASUVORK5CYII=\n",
      "text/plain": [
       "<matplotlib.figure.Figure at 0x6947da0>"
>>>>>>> master
>>>>>>> master
      ]
     },
     "metadata": {},
     "output_type": "display_data"
    }
   ],
   "source": [
    "# A plot can sometimes be more readable\n",
    "\n",
    "plt.matshow(confusion_matrix(y_test, y_test_pred), cmap='Blues')\n",
    "plt.colorbar(shrink=0.8)\n",
    "plt.xticks(range(10))\n",
    "plt.yticks(range(10))\n",
    "plt.xlabel(\"Predicted label\")\n",
    "plt.ylabel(\"True label\")"
   ]
  },
  {
   "cell_type": "code",
<<<<<<< HEAD
   "execution_count": 5,
=======
<<<<<<< HEAD
   "execution_count": 5,
=======
   "execution_count": 6,
>>>>>>> master
>>>>>>> master
   "metadata": {
    "collapsed": false
   },
   "outputs": [
    {
     "name": "stdout",
     "output_type": "stream",
     "text": [
      "             precision    recall  f1-score   support\n",
      "\n",
      "          0       1.00      0.98      0.99        45\n",
<<<<<<< HEAD
=======
<<<<<<< HEAD
      "          1       0.85      1.00      0.92        46\n",
      "          2       1.00      0.98      0.99        44\n",
      "          3       0.98      1.00      0.99        46\n",
      "          4       0.95      0.91      0.93        45\n",
      "          5       0.96      0.93      0.95        46\n",
      "          6       0.98      0.98      0.98        45\n",
      "          7       0.95      0.93      0.94        45\n",
      "          8       0.95      0.86      0.90        43\n",
      "          9       0.93      0.96      0.95        45\n",
      "\n",
      "avg / total       0.96      0.95      0.95       450\n",
=======
>>>>>>> master
      "          1       0.95      0.91      0.93        46\n",
      "          2       1.00      1.00      1.00        44\n",
      "          3       0.98      0.98      0.98        46\n",
      "          4       0.95      0.93      0.94        45\n",
      "          5       0.96      0.93      0.95        46\n",
      "          6       0.98      0.98      0.98        45\n",
      "          7       0.95      0.93      0.94        45\n",
      "          8       0.88      0.84      0.86        43\n",
      "          9       0.85      1.00      0.92        45\n",
      "\n",
      "avg / total       0.95      0.95      0.95       450\n",
<<<<<<< HEAD
=======
>>>>>>> master
>>>>>>> master
      "\n"
     ]
    }
   ],
   "source": [
    "from sklearn.metrics import classification_report\n",
    "print(classification_report(y_test, y_test_pred))"
   ]
  },
  {
   "cell_type": "code",
<<<<<<< HEAD
   "execution_count": 6,
=======
<<<<<<< HEAD
   "execution_count": 6,
=======
   "execution_count": 7,
>>>>>>> master
>>>>>>> master
   "metadata": {
    "collapsed": false
   },
   "outputs": [
    {
     "data": {
      "text/plain": [
<<<<<<< HEAD
       "array([0, 0, 0, 0, 0, 0, 0, 0, 0, 0], dtype=int64)"
      ]
     },
     "execution_count": 6,
=======
<<<<<<< HEAD
       "array([0, 0, 0, 0, 0, 0, 0, 0, 0, 0])"
      ]
     },
     "execution_count": 6,
=======
       "array([0, 0, 0, 0, 0, 0, 0, 0, 0, 0], dtype=int64)"
      ]
     },
     "execution_count": 7,
>>>>>>> master
>>>>>>> master
     "metadata": {},
     "output_type": "execute_result"
    }
   ],
   "source": [
    "np.bincount(y) / y.shape[0]"
   ]
  },
  {
   "cell_type": "code",
<<<<<<< HEAD
   "execution_count": 7,
=======
<<<<<<< HEAD
   "execution_count": 7,
=======
   "execution_count": 8,
>>>>>>> master
>>>>>>> master
   "metadata": {
    "collapsed": true
   },
   "outputs": [],
   "source": [
    "X, y = digits.data, digits.target == 3"
   ]
  },
  {
   "cell_type": "code",
<<<<<<< HEAD
   "execution_count": 8,
=======
<<<<<<< HEAD
   "execution_count": 8,
=======
   "execution_count": 9,
>>>>>>> master
>>>>>>> master
   "metadata": {
    "collapsed": false
   },
   "outputs": [
    {
     "data": {
      "text/plain": [
       "array([ 0.9,  0.9,  0.9])"
      ]
     },
<<<<<<< HEAD
     "execution_count": 8,
=======
<<<<<<< HEAD
     "execution_count": 8,
=======
     "execution_count": 9,
>>>>>>> master
>>>>>>> master
     "metadata": {},
     "output_type": "execute_result"
    }
   ],
   "source": [
    "from sklearn.model_selection import cross_val_score\n",
    "from sklearn.svm import SVC\n",
    "\n",
    "cross_val_score(SVC(), X, y)"
   ]
  },
  {
   "cell_type": "code",
<<<<<<< HEAD
   "execution_count": 9,
=======
<<<<<<< HEAD
   "execution_count": 9,
=======
   "execution_count": 10,
>>>>>>> master
>>>>>>> master
   "metadata": {
    "collapsed": false
   },
   "outputs": [
    {
     "data": {
      "text/plain": [
       "array([ 0.9,  0.9,  0.9])"
      ]
     },
<<<<<<< HEAD
     "execution_count": 9,
=======
<<<<<<< HEAD
     "execution_count": 9,
=======
     "execution_count": 10,
>>>>>>> master
>>>>>>> master
     "metadata": {},
     "output_type": "execute_result"
    }
   ],
   "source": [
    "from sklearn.dummy import DummyClassifier\n",
    "cross_val_score(DummyClassifier(\"most_frequent\"), X, y)"
   ]
  },
  {
   "cell_type": "code",
<<<<<<< HEAD
=======
<<<<<<< HEAD
>>>>>>> master
   "execution_count": 10,
   "metadata": {
    "collapsed": false
   },
   "outputs": [
    {
     "data": {
      "text/plain": [
<<<<<<< HEAD
       "array([0, 0], dtype=int64)"
=======
       "array([0, 0])"
>>>>>>> master
      ]
     },
     "execution_count": 10,
     "metadata": {},
     "output_type": "execute_result"
    }
   ],
   "source": [
    "np.bincount(y) / y.shape[0]"
   ]
  },
  {
   "cell_type": "code",
<<<<<<< HEAD
   "execution_count": 12,
=======
=======
>>>>>>> master
   "execution_count": 11,
>>>>>>> master
   "metadata": {
    "collapsed": false
   },
   "outputs": [
    {
<<<<<<< HEAD
     "name": "stdout",
     "output_type": "stream",
     "text": [
      "['f1', 'f1_weighted', 'f1_samples', 'neg_mean_squared_error', 'precision_weighted', 'recall_samples', 'recall_micro', 'adjusted_rand_score', 'recall_macro', 'mean_absolute_error', 'precision_macro', 'neg_log_loss', 'neg_mean_absolute_error', 'f1_macro', 'recall_weighted', 'accuracy', 'precision_samples', 'median_absolute_error', 'precision', 'log_loss', 'precision_micro', 'average_precision', 'roc_auc', 'r2', 'recall', 'mean_squared_error', 'f1_micro', 'neg_median_absolute_error']\n"
     ]
    }
   ],
   "source": [
    "# Built in and custom scoring functions\n",
    "from sklearn.metrics.scorer import SCORERS\n",
    "print SCORERS.keys()"
   ]
  },
  {
   "cell_type": "code",
   "execution_count": 13,
   "metadata": {
    "collapsed": false
   },
   "outputs": [
    {
     "data": {
      "text/plain": [
       "array([ 0.9,  0.9,  0.9])"
      ]
     },
     "execution_count": 13,
     "metadata": {},
     "output_type": "execute_result"
    }
   ],
   "source": [
    "# it's also possible to define a custom scoring metric\n",
    "\n",
    "def my_accuracy_scoring(est, X, y):\n",
    "    return np.mean(est.predict(X) == y)\n",
    "cross_val_score(SVC(), X, y, scoring=my_accuracy_scoring)"
   ]
  },
  {
   "cell_type": "code",
   "execution_count": 14,
   "metadata": {
    "collapsed": true
   },
   "outputs": [],
   "source": [
    "def my_super_scoring(est, X, y):\n",
    "    return np.mean(est.predict(X) == y) - np.mean(est.coef_ != 0)"
=======
<<<<<<< HEAD
     "name": "stderr",
     "output_type": "stream",
     "text": [
      "//anaconda/lib/python2.7/site-packages/sklearn/svm/base.py:552: ChangedBehaviorWarning: The decision_function_shape default value will change from 'ovo' to 'ovr' in 0.19. This will change the shape of the decision function returned by SVC.\n",
      "  \"SVC.\", ChangedBehaviorWarning)\n"
     ]
    },
    {
     "ename": "ValueError",
     "evalue": "bad input shape (450, 45)",
     "output_type": "error",
     "traceback": [
      "\u001b[0;31m---------------------------------------------------------------------------\u001b[0m",
      "\u001b[0;31mValueError\u001b[0m                                Traceback (most recent call last)",
      "\u001b[0;32m<ipython-input-11-e6052f5a344d>\u001b[0m in \u001b[0;36m<module>\u001b[0;34m()\u001b[0m\n\u001b[1;32m     12\u001b[0m     \u001b[0msvm\u001b[0m \u001b[0;34m=\u001b[0m \u001b[0mSVC\u001b[0m\u001b[0;34m(\u001b[0m\u001b[0mgamma\u001b[0m\u001b[0;34m=\u001b[0m\u001b[0mgamma\u001b[0m\u001b[0;34m)\u001b[0m\u001b[0;34m.\u001b[0m\u001b[0mfit\u001b[0m\u001b[0;34m(\u001b[0m\u001b[0mX_train\u001b[0m\u001b[0;34m,\u001b[0m \u001b[0my_train\u001b[0m\u001b[0;34m)\u001b[0m\u001b[0;34m\u001b[0m\u001b[0m\n\u001b[1;32m     13\u001b[0m     \u001b[0mdecision_function\u001b[0m \u001b[0;34m=\u001b[0m \u001b[0msvm\u001b[0m\u001b[0;34m.\u001b[0m\u001b[0mdecision_function\u001b[0m\u001b[0;34m(\u001b[0m\u001b[0mX_test\u001b[0m\u001b[0;34m)\u001b[0m\u001b[0;34m\u001b[0m\u001b[0m\n\u001b[0;32m---> 14\u001b[0;31m     \u001b[0mfpr\u001b[0m\u001b[0;34m,\u001b[0m \u001b[0mtpr\u001b[0m\u001b[0;34m,\u001b[0m \u001b[0m_\u001b[0m \u001b[0;34m=\u001b[0m \u001b[0mroc_curve\u001b[0m\u001b[0;34m(\u001b[0m\u001b[0my_test\u001b[0m\u001b[0;34m,\u001b[0m \u001b[0mdecision_function\u001b[0m\u001b[0;34m)\u001b[0m\u001b[0;34m\u001b[0m\u001b[0m\n\u001b[0m\u001b[1;32m     15\u001b[0m     \u001b[0macc\u001b[0m \u001b[0;34m=\u001b[0m \u001b[0msvm\u001b[0m\u001b[0;34m.\u001b[0m\u001b[0mscore\u001b[0m\u001b[0;34m(\u001b[0m\u001b[0mX_test\u001b[0m\u001b[0;34m,\u001b[0m \u001b[0my_test\u001b[0m\u001b[0;34m)\u001b[0m\u001b[0;34m\u001b[0m\u001b[0m\n\u001b[1;32m     16\u001b[0m     \u001b[0mauc\u001b[0m \u001b[0;34m=\u001b[0m \u001b[0mroc_auc_score\u001b[0m\u001b[0;34m(\u001b[0m\u001b[0my_test\u001b[0m\u001b[0;34m,\u001b[0m \u001b[0msvm\u001b[0m\u001b[0;34m.\u001b[0m\u001b[0mdecision_function\u001b[0m\u001b[0;34m(\u001b[0m\u001b[0mX_test\u001b[0m\u001b[0;34m)\u001b[0m\u001b[0;34m)\u001b[0m\u001b[0;34m\u001b[0m\u001b[0m\n",
      "\u001b[0;32m//anaconda/lib/python2.7/site-packages/sklearn/metrics/ranking.pyc\u001b[0m in \u001b[0;36mroc_curve\u001b[0;34m(y_true, y_score, pos_label, sample_weight, drop_intermediate)\u001b[0m\n\u001b[1;32m    503\u001b[0m     \"\"\"\n\u001b[1;32m    504\u001b[0m     fps, tps, thresholds = _binary_clf_curve(\n\u001b[0;32m--> 505\u001b[0;31m         y_true, y_score, pos_label=pos_label, sample_weight=sample_weight)\n\u001b[0m\u001b[1;32m    506\u001b[0m \u001b[0;34m\u001b[0m\u001b[0m\n\u001b[1;32m    507\u001b[0m     \u001b[0;31m# Attempt to drop thresholds corresponding to points in between and\u001b[0m\u001b[0;34m\u001b[0m\u001b[0;34m\u001b[0m\u001b[0m\n",
      "\u001b[0;32m//anaconda/lib/python2.7/site-packages/sklearn/metrics/ranking.pyc\u001b[0m in \u001b[0;36m_binary_clf_curve\u001b[0;34m(y_true, y_score, pos_label, sample_weight)\u001b[0m\n\u001b[1;32m    297\u001b[0m     \u001b[0mcheck_consistent_length\u001b[0m\u001b[0;34m(\u001b[0m\u001b[0my_true\u001b[0m\u001b[0;34m,\u001b[0m \u001b[0my_score\u001b[0m\u001b[0;34m)\u001b[0m\u001b[0;34m\u001b[0m\u001b[0m\n\u001b[1;32m    298\u001b[0m     \u001b[0my_true\u001b[0m \u001b[0;34m=\u001b[0m \u001b[0mcolumn_or_1d\u001b[0m\u001b[0;34m(\u001b[0m\u001b[0my_true\u001b[0m\u001b[0;34m)\u001b[0m\u001b[0;34m\u001b[0m\u001b[0m\n\u001b[0;32m--> 299\u001b[0;31m     \u001b[0my_score\u001b[0m \u001b[0;34m=\u001b[0m \u001b[0mcolumn_or_1d\u001b[0m\u001b[0;34m(\u001b[0m\u001b[0my_score\u001b[0m\u001b[0;34m)\u001b[0m\u001b[0;34m\u001b[0m\u001b[0m\n\u001b[0m\u001b[1;32m    300\u001b[0m     \u001b[0massert_all_finite\u001b[0m\u001b[0;34m(\u001b[0m\u001b[0my_true\u001b[0m\u001b[0;34m)\u001b[0m\u001b[0;34m\u001b[0m\u001b[0m\n\u001b[1;32m    301\u001b[0m     \u001b[0massert_all_finite\u001b[0m\u001b[0;34m(\u001b[0m\u001b[0my_score\u001b[0m\u001b[0;34m)\u001b[0m\u001b[0;34m\u001b[0m\u001b[0m\n",
      "\u001b[0;32m//anaconda/lib/python2.7/site-packages/sklearn/utils/validation.pyc\u001b[0m in \u001b[0;36mcolumn_or_1d\u001b[0;34m(y, warn)\u001b[0m\n\u001b[1;32m    560\u001b[0m         \u001b[0;32mreturn\u001b[0m \u001b[0mnp\u001b[0m\u001b[0;34m.\u001b[0m\u001b[0mravel\u001b[0m\u001b[0;34m(\u001b[0m\u001b[0my\u001b[0m\u001b[0;34m)\u001b[0m\u001b[0;34m\u001b[0m\u001b[0m\n\u001b[1;32m    561\u001b[0m \u001b[0;34m\u001b[0m\u001b[0m\n\u001b[0;32m--> 562\u001b[0;31m     \u001b[0;32mraise\u001b[0m \u001b[0mValueError\u001b[0m\u001b[0;34m(\u001b[0m\u001b[0;34m\"bad input shape {0}\"\u001b[0m\u001b[0;34m.\u001b[0m\u001b[0mformat\u001b[0m\u001b[0;34m(\u001b[0m\u001b[0mshape\u001b[0m\u001b[0;34m)\u001b[0m\u001b[0;34m)\u001b[0m\u001b[0;34m\u001b[0m\u001b[0m\n\u001b[0m\u001b[1;32m    563\u001b[0m \u001b[0;34m\u001b[0m\u001b[0m\n\u001b[1;32m    564\u001b[0m \u001b[0;34m\u001b[0m\u001b[0m\n",
      "\u001b[0;31mValueError\u001b[0m: bad input shape (450, 45)"
     ]
    },
    {
     "data": {
      "image/png": "iVBORw0KGgoAAAANSUhEUgAAAYgAAAEPCAYAAABY9lNGAAAABHNCSVQICAgIfAhkiAAAAAlwSFlz\nAAALEgAACxIB0t1+/AAAGFpJREFUeJzt3Xu0ZGV55/HvDxAZjBARo2MrjKJIvIABbVmGzBzFkcZx\niTHJyGVQcTKSC+qMToJGE3rNMmN0Jg4LUBkMgzEmQpagwTuKnHgDQbkjLTdFLooioMiAg+0zf+zd\ndHHYfU5V9dlV1ae/n7Vqde1d797v03udU89533fv901VIUnSQttMOwBJ0mwyQUiSOpkgJEmdTBCS\npE4mCElSJxOEJKlTrwkiyalJbkty+SJlTkhybZJLkzy7z3gkScPruwVxGnDQpj5McjCwR1U9FTga\nOLnneCRJQ+o1QVTVV4A7FylyCPChtuzXgZ2TPLbPmCRJw5n2GMQq4KaB7VvafZKkKZt2gpAkzajt\nplz/LcATB7af0O57iCROGiVJY6iqjHPcJFoQaV9dzgZeBZBkf+CuqrptUyeqKl9VHHfccVOPYVZe\nXguvhddi8dfm6LUFkeQfgDng0Um+BxwHbA9UVZ1SVZ9O8pIk1wH3AEf1GY8kaXi9JoiqOnyIMsf0\nGYMkaTwOUm+B5ubmph3CzPBabOS12MhrsTyyuX1Uk5KktpRYJWlWJKFmeJBakrQFMkFIkjqZICRJ\nnUwQkqROJghJUicThCSpkwlCktTJBCFJ6mSCkCR1MkFIkjqZICRJnUwQkqROJghJUicThCSpkwlC\nktTJBCFJ6mSCkCR1MkFIkjqZICRJnUwQkqROJghJUicThCSpkwlCktTJBCFJ6mSCkCR1MkFIkjqZ\nICRJnUwQkqROJghJUicThCSpkwlCktTJBCFJ6mSCkCR1MkFIkjr1niCSrEmyLsk1SY7t+HynJGcn\nuTTJFUle03dMkqSlpar6O3myDXANcCBwK3ARcGhVrRso81Zgp6p6a5JdgW8Dj62qXyw4V/UZqySt\nREmoqoxzbN8tiNXAtVV1Y1XdD5wOHLKgTAGPbN8/EvjxwuQgSZq8vhPEKuCmge2b232DTgKenuRW\n4DLgjT3HJEkawnbTDgA4CLikql6YZA/g80n2rqqfLSy4du3aB97Pzc0xNzc3sSAlaUswPz/P/Pz8\nspyr7zGI/YG1VbWm3X4LUFX1roEynwTeWVVfbbfPBY6tqm8sOJdjEJI0olkeg7gIeEqS3ZNsDxwK\nnL2gzI3AiwCSPBbYE7ih57gkSUvotYupqtYnOQY4hyYZnVpVVyc5uvm4TgHeAXwwyeXtYX9aVXf0\nGZckaWlDdTEleTTwfODxwL3AlTTjBhPr87GLSZJGtzldTIsmiCS/BbwVeBxwKfBDYAeabqDdaW5b\n/V9dA8rLzQQhSaPrM0G8Bzipqh4yJtCOKbwMoKo+Ok7lozBBSNLoeksQs8QEIUmj25wEseggdZI3\nLPZ5VZ0wTqWSpNm31F1Mj5lIFJKkmWMXkyStYH12Mb1nsc+r6k3jVCpJmn1LdTFdNZEoJEkzxy4m\nSVrBeutiGqhgV+DNwDNoHpQDoKpePE6lkqTZN+xkfR8GvkvzBPW7gB/QPFktSVqhhp2L6ZtVtV+S\ny6tq7yQBvl5Vq/sP8YEY7GKSpBH13sUE3N/++4MkB9GsL/3ocSqUJG0Zhk0Q/z3JzsB/Bd4L7AT8\nSW9RSZKmzruYJGkF631FuSSnJvnVge1HJfnAOBVKkrYMw97FtG9V3bVho6ruBPbrJyRJ0iwYNkFs\n045BAE0LAnhYPyFJkmbBsIPUxwPnJzmj3X4l8O5+QpIkzYKhB6mT7A28sN38YlVd3ltU3fU7SC1J\nI+p9kLq1I3BHVR0P3JJkt3EqlCRtGYZ9kvrtwG8Ce1TVnklWAWdU1QF9BzgQgy0ISRrRJFoQvwu8\nBLgHoKpuoXlYTpK0Qg2bIH7e/vleAEl27C8kSdIsGDZBnJXkvcDOSY4CzgH+T39hSZKmbZS7mA4G\nXgwE+FxVfabPwDrqdwxCkka0OWMQSyaIJNsCn62qfztOBcvFBCFJo+t1kLqq1gPbJnFQWpK2IsM+\nSf0T4LIk59DeyQRQVW/qJSpJ0tQNmyA+2b4kSVsJ14OQpBWstzGIJB9PcnCSh7Q0kuye5C+SvHac\niiVJs23RFkQ7pcabgZcDtwE/AnYAngx8D3hvVZ05gThtQUjSGHq9zXWgkqcA/xK4F/h2Vd09ToXj\nMkFI0ugmkiCmzQQhSaOb1HTfY0myJsm6JNckOXYTZeaSXJLkyiTn9R2TJGlpvbYgkmwDXAMcCNwK\nXAQcWlXrBsrsDHwNeHFV3ZJk16q6veNctiAkaUQTaUEk2b4dhxjFauDaqrqxqu4HTgcOWVDmcODM\ndgpxupKDJGnyhkoQSf4dcAXw+Xb72Uk+NsShq4CbBrZvbvcN2hPYJcl5SS5KcuQwMUmS+jXsk9T/\nDXgecB5AVV06RmtisRj2pVnv+hHA+UnOr6rrlun8kqQxDJsg7q+qu5IHdWMNMyBwCzC4dvUT2n2D\nbgZur6r7gPuSfAnYB3hIgli7du0D7+fm5pibmxsmdknaaszPzzM/P78s5xp2TerTgM8Ab6N5aO4N\nwCOq6nVLHLct8G2aQervAxcCh1XV1QNl9gJOBNYADwe+Dryyqr614FwOUkvSiCYxSH0MsB/wS+As\n4OfAG5c6qJ0q/BiaFeiuAk6vqquTHJ3kdW2ZdcDngMuBC4BTFiYHSdLkDduCeEVVnbXUvj7ZgpCk\n0fX+JHWSi6tq3wX7vllV+41T6ThMEJI0us1JEIsOUic5iGZsYFWS9wx8tBNNd5MkaYVa6i6mHwJX\nAvfRjCFscDfwlr6CkiRN37BdTDu0t6FOjV1MkjS63rqYBqxK8pfA02nWgwCgqvYcp1JJ0uwb9jbX\nDwKnAQEOBv4ROKOnmCRJM2DYBLFjVX0OoKqur6q30yQKSdIKNWwX08/bqbuvT/IHNNNlPLK/sCRJ\n0zbsIPXzgG8BjwL+EtgZeFdVfbXf8B4Ug4PUkjSiqSw5mmTVhjUcJsEEIUmj63UupiTPTfLyJLu2\n289I8iGaSfUkSSvUogkiyTuBvweOAD6bZC3NmhCX0Sz0I0laoRbtYkryLWC/qro3yS40q8M9q6pu\nmFSAA7HYxSRJI+qzi+m+qroXoKruAK6ZRnKQJE3eUi2Iu4AvbtgEXjCwTVW9otfoHhyLLQhJGlFv\ndzElOXCxg6vq3HEqHYcJQpJGN5XbXCfNBCFJo5vEkqOSpK2MCUKS1GmkBJHk4X0FIkmaLUMliCSr\nk1wBXNtu75PkxF4jkyRN1bAtiBOAlwI/Bqiqy2hueZUkrVDDJohtqurGBfvWL3cwkqTZMex6EDcl\nWQ1Ukm2B1wPX9BeWJGnahl0P4tdouple1O76AnBMVd3eY2wLY/A5CEkaUe8PyiXZpZ2LaWpMEJI0\nukk8KHdRkk8neXUSlxqVpK3AUAmiqvYA3gHsB1yR5ONJDu01MknSVI08F1O7LsTxwBFVtW0vUXXX\naxeTJI2o9y6mJL+S5IgknwAuBH4EPH+cCiVJW4ZhB6m/C3wC+Meq+nLfQW0iBlsQkjSiSdzFtE1V\n/XKcCpaLCUKSRrc5CWLRB+WS/HVVvRk4M8lDvp0nuaKcJGmylnqS+oz235P6DkSSNFsWTRBVdWH7\n9ter6kFJIskxwMSWHJUkTdawD8q9tmPff1zOQCRJs2XRBJHklUk+BjwpyVkDr88Ddw1TQZI1SdYl\nuSbJsYuUe26S+5M4riFJM2CpMYgLadaAeALw3oH9dwOXLHXyJNvQjF8cCNxKM2XHP1XVuo5yfwV8\nbvjQJUl9WmoM4jvAd2hmbx3HauDaDWtJJDkdOARYt6Dc64GPAs8dsx5J0jJbqovpn9t/70xyx8Dr\nziTDzO66CrhpYPvmdt9gHY8HXl5V7wfGuldXkrT8lupi2rCs6K49xnA8MDg2YZKQpBmwVBfThqen\nnwjcWlX/L8kBwN7Ah4GfLnH+W4DdBraf0O4b9Bzg9CShSUQHJ7m/qs5eeLK1a9c+8H5ubo65ubkl\nqpekrcv8/Dzz8/PLcq5hp9q4lGZ8YDfgs8AngadW1UuXOG5b4Ns0g9Tfpxn0Pqyqrt5E+dOAT1TV\nWR2fOdWGJI2ot6k2BvyyqjbcgnpiVZ2QZMm7mKpqfftA3Tk04x2nVtXVSY5uPq5TFh4yUvSSpN4M\n24K4EPgfwJ/TDCjfkOTKqnpm3wEOxGALQpJGNIklR19LM2D97jY5PAn4yDgVSpK2DEOvKJdkO+Ap\n7eZ1VfWL3qLqrt8WhCSNqPcxiCS/BfwdzR1IAR6X5Miq+uo4lUqSZt+wYxDfAF5VVd9qt38d+Luq\nek7P8Q3GYAtCkkY0iTGI7TckB4D2NtXtx6lQkrRlGPY214uTnEzzcBzAEQwxWZ8kacs1bBfTDsAb\ngAPaXV+meR7ivh5jWxiDXUySNKLN6WJaMkEkeRawB3BVVV07TiXLwQQhSaPrbQwiyZ8BH6fpUvp8\nkq6V5SRJK9CiLYgkVwGrq+qeJI8BPl1VU1mzwRaEJI2uz7uYfl5V9wBU1Y+GKC9JWiGWakHcBXxx\nwybNdBsbtqmqia0fbQtCkkbX2yB1kgMXO7iqzh2n0nGYICRpdL3exTQrTBCSNLpJPEktSdrKmCAk\nSZ1GShBJHt5XIJKk2TJUgkiyOskVwLXt9j5JTuw1MknSVA3bgjgBeCnwY4CquozmlldJ0go1bILY\npqpuXLBv/XIHI0maHcNO931TktVAJdkWeD1wTX9hSZKmbdjpvn+NppvpRe2uLwDHVNXtPca2MAaf\ng5CkEfmgnCSp0+YkiKG6mJJ8AHjIt3NVvW6cSiVJs2/YMYgvDLzfAfht4KblD0eSNCvG6mJKsg3w\nlap6/vKHtMk67WKSpBFNYy6mJwGPHfNYSdIWYNgxiDvZOAaxDXAH8Ja+gpIkTd+SXUxJAjwRuKXd\n9ctp9PXYxSRJo+u1i6n9Vv50Va1vX35LS9JWYNgxiEuT/EavkUiSZspSS45uV1W/SHIV8DTgeuAe\nmvWpq6r2nUyYdjFJ0jj6fFDuQmBf4GXjnFyStOVaKkEEoKqun0AskqQZslSCeEySN23qw6p6zzLH\nI0maEUsliG2BX6FtSUiSth5LDVJfvLkD0UnWAMfT3DF1alW9a8HnhwPHtpt3A39YVVd0nMdBakka\nUZ/PQWxWy6Gds+kk4CDgGcBhSfZaUOwG4F9X1T7AO4APbE6dkqTlsVSCOHAzz78auLaqbqyq+4HT\ngUMGC1TVBVX1k3bzAmDVZtYpSVoGiyaIqrpjM8+/igdPC34ziyeA3wc+s5l1SpKWwbDrQfQuyQuA\no4ADNlVm7dq1D7yfm5tjbm6u97gkaUsyPz/P/Pz8spyr1yVHk+wPrK2qNe32W2iewF44UL03cCaw\nZlPPXDhILUmjm8Z6EMO6CHhKkt2TbA8cCpw9WCDJbjTJ4UgfyJOk2dFrF1NVrU9yDHAOG29zvTrJ\n0c3HdQrw58AuwPvaqcXvr6rVfcYlSVpar11My8kuJkka3Sx3MUmStlAmCElSJxOEJKmTCUKS1MkE\nIUnqZIKQJHUyQUiSOpkgJEmdTBCSpE4mCElSJxOEJKmTCUKS1MkEIUnqZIKQJHUyQUiSOpkgJEmd\nTBCSpE4mCElSJxOEJKmTCUKS1MkEIUnqZIKQJHUyQUiSOpkgJEmdTBCSpE4mCElSJxOEJKmTCUKS\n1MkEIUnqZIKQJHUyQUiSOpkgJEmdTBCSpE4mCElSJxOEJKlT7wkiyZok65Jck+TYTZQ5Icm1SS5N\n8uy+Y5IkLa3XBJFkG+Ak4CDgGcBhSfZaUOZgYI+qeipwNHBynzGtBPPz89MOYWZ4LTbyWmzktVge\nfbcgVgPXVtWNVXU/cDpwyIIyhwAfAqiqrwM7J3lsz3Ft0fzh38hrsZHXYiOvxfLoO0GsAm4a2L65\n3bdYmVs6ykiSJsxBaklSp1RVfydP9gfWVtWadvstQFXVuwbKnAycV1VntNvrgH9TVbctOFd/gUrS\nClZVGee47ZY7kAUuAp6SZHfg+8ChwGELypwN/DFwRptQ7lqYHGD8/6AkaTy9JoiqWp/kGOAcmu6s\nU6vq6iRHNx/XKVX16SQvSXIdcA9wVJ8xSZKG02sXkyRpyzVzg9Q+WLfRUtciyeFJLmtfX0nyrGnE\nOQnD/Fy05Z6b5P4kr5hkfJM05O/IXJJLklyZ5LxJxzgpQ/yO7JTk7Pa74ookr5lCmL1LcmqS25Jc\nvkiZ0b83q2pmXjQJ6zpgd+BhwKXAXgvKHAx8qn3/POCCacc9xWuxP7Bz+37N1nwtBsqdC3wSeMW0\n457iz8XOwFXAqnZ712nHPcVr8VbgnRuuA/BjYLtpx97DtTgAeDZw+SY+H+t7c9ZaED5Yt9GS16Kq\nLqiqn7SbF7Bynx8Z5ucC4PXAR4EfTjK4CRvmWhwOnFlVtwBU1e0TjnFShrkWBTyyff9I4MdV9YsJ\nxjgRVfUV4M5Fioz1vTlrCcIH6zYa5loM+n3gM71GND1LXoskjwdeXlXvB1byHW/D/FzsCeyS5Lwk\nFyU5cmLRTdYw1+Ik4OlJbgUuA944odhmzVjfm33f5qoJSPICmru/Dph2LFN0PDDYB72Sk8RStgP2\nBV4IPAI4P8n5VXXddMOaioOAS6rqhUn2AD6fZO+q+tm0A9sSzFqCuAXYbWD7Ce2+hWWeuESZlWCY\na0GSvYFTgDVVtVgTc0s2zLV4DnB6ktD0NR+c5P6qOntCMU7KMNfiZuD2qroPuC/Jl4B9aPrrV5Jh\nrsVRwDsBqur6JN8B9gK+MZEIZ8dY35uz1sX0wIN1SbanebBu4S/42cCr4IEntTsfrFsBlrwWSXYD\nzgSOrKrrpxDjpCx5Larqye3rSTTjEH+0ApMDDPc78k/AAUm2TbIjzaDk1ROOcxKGuRY3Ai8CaPvc\n9wRumGiUkxM23XIe63tzploQ5YN1DxjmWgB/DuwCvK/9y/n+qlo9vaj7MeS1eNAhEw9yQob8HVmX\n5HPA5cB64JSq+tYUw+7FkD8X7wA+OHD7559W1R1TCrk3Sf4BmAMeneR7wHHA9mzm96YPykmSOs1a\nF5MkaUaYICRJnUwQkqROJghJUicThCSpkwlCktTJBKGZkWR9kovbaaovbh8E3FTZ3ZNcsQx1ntdO\nF31pki8neeoY5zg6yX9o3786yeMGPjslyV7LHOfX2yfolzrmjUl22Ny6tfUyQWiW3FNV+1bVb7T/\nfm+J8sv1EM9hVfVsmtku/+eoB1fV/66qD7ebr2FgErSqel1VrVuWKDfG+X6Gi/M/AzsuU93aCpkg\nNEseMk1A21L4UpJvtK/9O8o8vf2r+uL2L+w92v1HDOx/f/u0+WL1fgnYcOyB7XGXJfmbJA9r9/9V\nuwjPpUne3e47Lsmbk/wOzZxQH26P3aH9y3/ftpXx7oGYX53khDHjPB94/MC53pfkwjQL4hzX7nt9\nW+a8JOe2+16c5GvtdTyjnYZD2iQThGbJvxjoYjqz3Xcb8KKqeg7NXDsndhz3B8DxVbUvzRf0zW23\nziuB57f7fwkcsUT9LwOuSPJw4DTg96pqH5rFaP4wyS40U4o/s/1L/h0Dx1ZVnUkzCdzhbQvovoHP\nzwR+e2D7lTSTC44T5xrg4wPbf9ZOsbIPMJfkmVV1Is1kbHNVdWCSRwNvAw5sr+U3gTcvUY+2cjM1\nF5O2ev+3/ZIctD1wUpolEtcDXWME5wNvS/JE4Kyqui7JgTRTXl/U/kW+A02y6fL3Se4Fvkuz6NDT\ngBsGJkD8W+CPgPcC9yb5G+BTNCvXdXlIC6Cqbk9yfZLVNLOqPq2qvpbkj0eM8+E0U3gPLhl5aJL/\nRPP7/Djg6cCVPHjytv3b/V9t63kYzXWTNskEoVn3X4AfVNXeSbYF7l1YoKo+kuQC4KXAp9rJ2gL8\nbVW9bYg6Dq+qSzZstH9td33Jr2+/4A8Efg84pn0/rDNoWgvrgI9tqG7UONuuqpOA30nyr2haAvtV\n1U+TnEaTZBYKcE5VLdU6kR5gF5NmSVff+87A99v3rwK2fchByZOq6jttt8rZwN40a1P/bpLHtGUe\ntchdUQvr/Tawe5Int9tHAv/c9tn/alV9FnhTW89CdwM7baKej9Es/XgozfKYjBnnXwDPS7JnW9fP\ngLvTTGd98ED5nw7EcgHwmwPjMzuOc8eWti4mCM2SrruS3ge8JsklNHP539NR5t+3A8eXAM8APlRV\nVwNvB85JchnNlNCP6zj2IXVW1c9ppkP+aHvseuBkmi/bT7b7vkTTulnog8DJGwapB89fVXfRrMuw\nW1V9o903cpzt2MZfA39SVZcDl7bn/TDwlYFjPgB8Nsm57brURwEfaev5Gk1XmrRJTvctSepkC0KS\n1MkEIUnqZIKQJHUyQUiSOpkgJEmdTBCSpE4mCElSJxOEJKnT/wdZh/vB+EVgiQAAAABJRU5ErkJg\ngg==\n",
      "text/plain": [
       "<matplotlib.figure.Figure at 0x10eab2050>"
      ]
     },
     "metadata": {},
     "output_type": "display_data"
    }
   ],
   "source": [
    "# ROC Curves\n",
    "# A better measure is using ROC (Receiver Operating Characteristics) curves\n",
    "# A roc-curve works with uncertainty outputs of a classifier\n",
    "# The following plot compares the roc curve of three parameter settings of\n",
    "# the classifier on the \"Three vs Rest\" task\n",
    "\n",
    "from sklearn.metrics import roc_curve, roc_auc_score\n",
    "\n",
    "for gamma in [.01, .05, .1]:\n",
    "    plt.xlabel('False Positive Rate')\n",
    "    plt.ylabel('True Positive Rate (recall)')\n",
    "    svm = SVC(gamma=gamma).fit(X_train, y_train)\n",
    "    decision_function = svm.decision_function(X_test)\n",
    "    fpr, tpr, _ = roc_curve(y_test, decision_function)\n",
    "    acc = svm.score(X_test, y_test)\n",
    "    auc = roc_auc_score(y_test, svm.decision_function(X_test))\n",
    "    plt.plot(fpr, tpr, label='acc:%.2f auc:%.2f' % (acc, auc), linewidth=3)\n",
    "plt.legend(loc='best')"
>>>>>>> master
   ]
  },
  {
   "cell_type": "code",
<<<<<<< HEAD
   "execution_count": 15,
=======
   "execution_count": 12,
>>>>>>> master
   "metadata": {
    "collapsed": false
   },
   "outputs": [
    {
<<<<<<< HEAD
     "name": "stdout",
     "output_type": "stream",
     "text": [
      "{'penalty': 'l1'}\n"
     ]
    }
   ],
   "source": [
    "from sklearn.model_selection import GridSearchCV\n",
    "from sklearn.svm import LinearSVC\n",
    "y = digits.target\n",
    "grid = GridSearchCV(LinearSVC(C=.01, dual=False),\n",
    "                   param_grid={'penalty' : ['l1', 'l2']},\n",
    "                    scoring=my_super_scoring)\n",
    "grid.fit(X,y)\n",
    "print(grid.best_params_)"
=======
     "data": {
      "text/plain": [
       "array([ 1.,  1.,  1.])"
      ]
     },
     "execution_count": 12,
=======
     "data": {
      "text/plain": [
       "array([0, 0], dtype=int64)"
      ]
     },
     "execution_count": 11,
>>>>>>> master
     "metadata": {},
     "output_type": "execute_result"
    }
   ],
   "source": [
<<<<<<< HEAD
    "from sklearn.model_selection import cross_val_score\n",
    "cross_val_score(SVC(), X, y, scoring=\"roc_auc\")"
=======
    "np.bincount(y) / y.shape[0]"
>>>>>>> master
>>>>>>> master
   ]
  },
  {
   "cell_type": "code",
   "execution_count": null,
   "metadata": {
    "collapsed": true
   },
   "outputs": [],
   "source": []
  }
 ],
 "metadata": {
  "kernelspec": {
   "display_name": "Python 2",
   "language": "python",
   "name": "python2"
  },
  "language_info": {
   "codemirror_mode": {
    "name": "ipython",
    "version": 2
   },
   "file_extension": ".py",
   "mimetype": "text/x-python",
   "name": "python",
   "nbconvert_exporter": "python",
   "pygments_lexer": "ipython2",
<<<<<<< HEAD
   "version": "2.7.12"
=======
<<<<<<< HEAD
   "version": "2.7.11"
=======
   "version": "2.7.12"
>>>>>>> master
>>>>>>> master
  }
 },
 "nbformat": 4,
 "nbformat_minor": 0
}
