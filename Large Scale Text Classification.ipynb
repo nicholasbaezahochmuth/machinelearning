{
 "cells": [
  {
   "cell_type": "markdown",
   "metadata": {},
   "source": [
    "### Scalability Issues\n",
    "\n",
    "The `sklearn.feature_extraction.text.CountVectorizer` and `sklearn.feature_extraction.text.TfidfVectorizer` classes suffer from a number of scalability issues that all stem from internal usage of the `vocabulary_` attribute. \n",
    "\n",
    "The main scalability issues are:\n",
    "\n",
    "* **Memory usage of the text vectorizer**\n",
    "* **Parallelization problems for text feature extraction** \n",
    "* **Impossibility to do online or out-of-core / streaming learning**"
   ]
  },
  {
   "cell_type": "code",
   "execution_count": 1,
   "metadata": {
    "collapsed": false
   },
   "outputs": [
    {
     "data": {
      "text/plain": [
       "{u'cat': 0, u'mat': 1, u'on': 2, u'sat': 3, u'the': 4}"
      ]
     },
     "execution_count": 1,
     "metadata": {},
     "output_type": "execute_result"
    }
   ],
   "source": [
    "from sklearn.feature_extraction.text import CountVectorizer\n",
    "\n",
    "vectorizer = CountVectorizer(min_df=1)\n",
    "\n",
    "vectorizer.fit([\n",
    "        \"The cat sat on the mat.\",\n",
    "    ])\n",
    "vectorizer.vocabulary_"
   ]
  },
  {
   "cell_type": "code",
   "execution_count": 2,
   "metadata": {
    "collapsed": false
   },
   "outputs": [
    {
     "name": "stdout",
     "output_type": "stream",
     "text": [
      "5\n",
      "[u'cat', u'mat', u'on', u'sat', u'the']\n",
      "[[1 1 1 1 2]\n",
      " [2 0 0 0 0]]\n"
     ]
    }
   ],
   "source": [
    "# The vocabulary is used in transform to build the occurance matrix\n",
    "\n",
    "X = vectorizer.transform([\n",
    "        'The cat sat on the mat.',\n",
    "        'This cat is a nice cat.',\n",
    "    ]).toarray()\n",
    "\n",
    "print(len(vectorizer.vocabulary_))\n",
    "print(vectorizer.get_feature_names())\n",
    "print(X)"
   ]
  },
  {
   "cell_type": "code",
   "execution_count": 3,
   "metadata": {
    "collapsed": false
   },
   "outputs": [
    {
     "data": {
      "text/plain": [
       "{u'brown': 0,\n",
       " u'cat': 1,\n",
       " u'dog': 2,\n",
       " u'fox': 3,\n",
       " u'jumps': 4,\n",
       " u'lazy': 5,\n",
       " u'math': 6,\n",
       " u'on': 7,\n",
       " u'over': 8,\n",
       " u'quick': 9,\n",
       " u'sat': 10,\n",
       " u'the': 11}"
      ]
     },
     "execution_count": 3,
     "metadata": {},
     "output_type": "execute_result"
    }
   ],
   "source": [
    "# refit with a larger corpus\n",
    "\n",
    "vectorizer = CountVectorizer(min_df=1)\n",
    "\n",
    "vectorizer.fit([\n",
    "        'The cat sat on the math.', \n",
    "        'The quick brown fox jumps over the lazy dog.',\n",
    "    ])\n",
    "vectorizer.vocabulary_"
   ]
  },
  {
   "cell_type": "markdown",
   "metadata": {},
   "source": [
    "The `vocabulary_` is logarithmically growing with the size of the training corpus.\n",
    "\n",
    "With this new vocabulary, the dimensionality of the output space is now larger."
   ]
  },
  {
   "cell_type": "code",
   "execution_count": 4,
   "metadata": {
    "collapsed": false
   },
   "outputs": [
    {
     "name": "stdout",
     "output_type": "stream",
     "text": [
      "12\n",
      "[u'brown', u'cat', u'dog', u'fox', u'jumps', u'lazy', u'math', u'on', u'over', u'quick', u'sat', u'the']\n",
      "[[0 1 0 0 0 0 0 1 0 0 1 2]\n",
      " [0 2 0 0 0 0 0 0 0 0 0 0]]\n"
     ]
    }
   ],
   "source": [
    "X = vectorizer.transform([\n",
    "    \"The cat sat on the mat.\",\n",
    "    \"This cat is a nice cat.\",\n",
    "]).toarray()\n",
    "\n",
    "print(len(vectorizer.vocabulary_))\n",
    "print(vectorizer.get_feature_names())\n",
    "print(X)"
   ]
  }
 ],
 "metadata": {
  "kernelspec": {
   "display_name": "Python 2",
   "language": "python",
   "name": "python2"
  },
  "language_info": {
   "codemirror_mode": {
    "name": "ipython",
    "version": 2
   },
   "file_extension": ".py",
   "mimetype": "text/x-python",
   "name": "python",
   "nbconvert_exporter": "python",
   "pygments_lexer": "ipython2",
   "version": "2.7.12"
  }
 },
 "nbformat": 4,
 "nbformat_minor": 0
}
