{
 "cells": [
  {
   "cell_type": "code",
   "execution_count": 1,
   "metadata": {
    "collapsed": false
   },
   "outputs": [
    {
     "name": "stderr",
     "output_type": "stream",
     "text": [
      "Using Theano backend.\n",
      "WARNING (theano.configdefaults): g++ not detected ! Theano will be unable to execute optimized C-implementations (for both CPU and GPU) and will default to Python implementations. Performance will be severely degraded. To remove this warning, set Theano flags cxx to an empty string.\n"
     ]
    }
   ],
   "source": [
    "import pandas as pd\n",
    "import numpy as np\n",
    "import math\n",
    "from keras.models import Sequential\n",
    "from keras.layers import Dense\n",
    "from keras.layers import LSTM\n",
    "from sklearn.preprocessing import MinMaxScaler\n",
    "from sklearn.metrics import mean_squared_error"
   ]
  },
  {
   "cell_type": "code",
   "execution_count": 3,
   "metadata": {
    "collapsed": true
   },
   "outputs": [],
   "source": [
    "import quantecon"
   ]
  },
  {
   "cell_type": "code",
   "execution_count": 72,
   "metadata": {
    "collapsed": false
   },
   "outputs": [],
   "source": [
    "from yahoo_finance import Share"
   ]
  },
  {
   "cell_type": "code",
   "execution_count": 73,
   "metadata": {
    "collapsed": true
   },
   "outputs": [],
   "source": [
    "apl = Share('AAPL')"
   ]
  },
  {
   "cell_type": "code",
   "execution_count": 79,
   "metadata": {
    "collapsed": false
   },
   "outputs": [],
   "source": [
    "apl_hist = apl.get_historical('2016-10-01', '2016-12-01')"
   ]
  },
  {
   "cell_type": "code",
   "execution_count": 83,
   "metadata": {
    "collapsed": false
   },
   "outputs": [],
   "source": [
    "apl_open = []\n",
    "for a in apl_hist:\n",
    "    apl_open.append(a['Open'])\n",
    "    "
   ]
  },
  {
   "cell_type": "code",
   "execution_count": 91,
   "metadata": {
    "collapsed": false
   },
   "outputs": [
    {
     "data": {
      "text/plain": [
       "[<matplotlib.lines.Line2D at 0x1d192e80>]"
      ]
     },
     "execution_count": 91,
     "metadata": {},
     "output_type": "execute_result"
    },
    {
     "data": {
      "image/png": "[encoded data removed]",
      "text/plain": [
       "<matplotlib.figure.Figure at 0x4c08c4a8>"
      ]
     },
     "metadata": {},
     "output_type": "display_data"
    }
   ],
   "source": [
    "plt.plot(apl_open)"
   ]
  },
  {
   "cell_type": "code",
   "execution_count": 85,
   "metadata": {
    "collapsed": false
   },
   "outputs": [],
   "source": [
    "dataframe = pd.DataFrame({'open':apl_open})"
   ]
  },
  {
   "cell_type": "code",
   "execution_count": 89,
   "metadata": {
    "collapsed": true
   },
   "outputs": [],
   "source": [
    "def create_dataset(dataset, look_back=1):\n",
    "\tdataX, dataY = [], []\n",
    "\tfor i in range(len(dataset)-look_back-1):\n",
    "\t\ta = dataset[i:(i+look_back), 0]\n",
    "\t\tdataX.append(a)\n",
    "\t\tdataY.append(dataset[i + look_back, 0])\n",
    "\treturn np.array(dataX), np.array(dataY)\n",
    "# fix random seed for reproducibility\n",
    "np.random.seed(7)"
   ]
  },
  {
   "cell_type": "code",
   "execution_count": 90,
   "metadata": {
    "collapsed": false,
    "scrolled": true
   },
   "outputs": [
    {
     "name": "stdout",
     "output_type": "stream",
     "text": [
      "Epoch 1/100\n",
      "13s - loss: 3.1782e-04\n",
      "Epoch 2/100\n",
      "13s - loss: 8.6305e-05\n",
      "Epoch 3/100\n",
      "13s - loss: 2.2864e-05\n",
      "Epoch 4/100\n",
      "13s - loss: 2.1440e-05\n",
      "Epoch 5/100\n",
      "13s - loss: 2.1978e-05\n",
      "Epoch 6/100\n",
      "12s - loss: 2.0264e-05\n",
      "Epoch 7/100\n",
      "13s - loss: 2.1720e-05\n",
      "Epoch 8/100\n",
      "13s - loss: 2.4399e-05\n",
      "Epoch 9/100\n",
      "13s - loss: 2.1714e-05\n",
      "Epoch 10/100\n",
      "13s - loss: 2.1455e-05\n",
      "Epoch 11/100\n",
      "13s - loss: 2.1552e-05\n",
      "Epoch 12/100\n",
      "13s - loss: 2.3914e-05\n",
      "Epoch 13/100\n",
      "12s - loss: 2.2903e-05\n",
      "Epoch 14/100\n",
      "13s - loss: 2.0243e-05\n",
      "Epoch 15/100\n",
      "13s - loss: 2.2079e-05\n",
      "Epoch 16/100\n",
      "13s - loss: 2.1436e-05\n",
      "Epoch 17/100\n",
      "12s - loss: 2.1369e-05\n",
      "Epoch 18/100\n",
      "12s - loss: 2.0203e-05\n",
      "Epoch 19/100\n",
      "13s - loss: 2.1527e-05\n",
      "Epoch 20/100\n",
      "13s - loss: 2.0615e-05\n",
      "Epoch 21/100\n",
      "13s - loss: 2.2126e-05\n",
      "Epoch 22/100\n",
      "13s - loss: 2.0959e-05\n",
      "Epoch 23/100\n",
      "13s - loss: 2.1396e-05\n",
      "Epoch 24/100\n",
      "13s - loss: 1.9207e-05\n",
      "Epoch 25/100\n",
      "13s - loss: 2.0356e-05\n",
      "Epoch 26/100\n",
      "13s - loss: 1.9378e-05\n",
      "Epoch 27/100\n",
      "13s - loss: 1.8315e-05\n",
      "Epoch 28/100\n",
      "13s - loss: 1.8532e-05\n",
      "Epoch 29/100\n",
      "13s - loss: 1.7976e-05\n",
      "Epoch 30/100\n",
      "13s - loss: 1.8388e-05\n",
      "Epoch 31/100\n",
      "13s - loss: 1.9287e-05\n",
      "Epoch 32/100\n",
      "13s - loss: 1.9094e-05\n",
      "Epoch 33/100\n",
      "13s - loss: 1.8142e-05\n",
      "Epoch 34/100\n",
      "13s - loss: 1.8133e-05\n",
      "Epoch 35/100\n",
      "13s - loss: 1.8537e-05\n",
      "Epoch 36/100\n",
      "12s - loss: 1.7140e-05\n",
      "Epoch 37/100\n",
      "13s - loss: 1.8169e-05\n",
      "Epoch 38/100\n",
      "12s - loss: 1.7332e-05\n",
      "Epoch 39/100\n",
      "12s - loss: 1.8088e-05\n",
      "Epoch 40/100\n",
      "12s - loss: 1.8072e-05\n",
      "Epoch 41/100\n",
      "12s - loss: 1.7635e-05\n",
      "Epoch 42/100\n",
      "13s - loss: 1.7708e-05\n",
      "Epoch 43/100\n",
      "12s - loss: 1.7305e-05\n",
      "Epoch 44/100\n",
      "12s - loss: 1.8637e-05\n",
      "Epoch 45/100\n",
      "12s - loss: 1.6725e-05\n",
      "Epoch 46/100\n",
      "12s - loss: 1.6530e-05\n",
      "Epoch 47/100\n",
      "12s - loss: 1.6116e-05\n",
      "Epoch 48/100\n",
      "13s - loss: 1.6330e-05\n",
      "Epoch 49/100\n",
      "12s - loss: 1.7382e-05\n",
      "Epoch 50/100\n",
      "12s - loss: 1.6681e-05\n",
      "Epoch 51/100\n",
      "13s - loss: 1.5801e-05\n",
      "Epoch 52/100\n",
      "12s - loss: 1.6515e-05\n",
      "Epoch 53/100\n",
      "12s - loss: 1.6017e-05\n",
      "Epoch 54/100\n",
      "12s - loss: 1.6959e-05\n",
      "Epoch 55/100\n",
      "12s - loss: 1.6481e-05\n",
      "Epoch 56/100\n",
      "13s - loss: 1.7275e-05\n",
      "Epoch 57/100\n",
      "12s - loss: 1.6116e-05\n",
      "Epoch 58/100\n",
      "12s - loss: 1.5939e-05\n",
      "Epoch 59/100\n",
      "12s - loss: 1.6135e-05\n",
      "Epoch 60/100\n",
      "12s - loss: 1.7260e-05\n",
      "Epoch 61/100\n",
      "12s - loss: 1.6579e-05\n",
      "Epoch 62/100\n",
      "12s - loss: 1.6467e-05\n",
      "Epoch 63/100\n",
      "12s - loss: 1.6008e-05\n",
      "Epoch 64/100\n",
      "12s - loss: 1.8686e-05\n",
      "Epoch 65/100\n",
      "13s - loss: 1.6925e-05\n",
      "Epoch 66/100\n",
      "12s - loss: 1.7040e-05\n",
      "Epoch 67/100\n",
      "12s - loss: 1.6895e-05\n",
      "Epoch 68/100\n",
      "12s - loss: 1.6121e-05\n",
      "Epoch 69/100\n",
      "13s - loss: 1.7789e-05\n",
      "Epoch 70/100\n",
      "13s - loss: 1.7174e-05\n",
      "Epoch 71/100\n",
      "12s - loss: 1.6045e-05\n",
      "Epoch 72/100\n",
      "12s - loss: 1.6036e-05\n",
      "Epoch 73/100\n",
      "12s - loss: 1.5953e-05\n",
      "Epoch 74/100\n",
      "13s - loss: 1.6372e-05\n",
      "Epoch 75/100\n",
      "12s - loss: 1.6100e-05\n",
      "Epoch 76/100\n",
      "12s - loss: 1.5945e-05\n",
      "Epoch 77/100\n",
      "12s - loss: 1.6163e-05\n",
      "Epoch 78/100\n",
      "12s - loss: 1.7076e-05\n",
      "Epoch 79/100\n",
      "12s - loss: 1.5982e-05\n",
      "Epoch 80/100\n",
      "12s - loss: 1.6312e-05\n",
      "Epoch 81/100\n",
      "12s - loss: 1.6366e-05\n",
      "Epoch 82/100\n",
      "12s - loss: 1.6069e-05\n",
      "Epoch 83/100\n",
      "12s - loss: 1.6233e-05\n",
      "Epoch 84/100\n",
      "13s - loss: 1.6664e-05\n",
      "Epoch 85/100\n",
      "12s - loss: 1.7693e-05\n",
      "Epoch 86/100\n",
      "12s - loss: 1.5576e-05\n",
      "Epoch 87/100\n",
      "12s - loss: 1.6121e-05\n",
      "Epoch 88/100\n",
      "13s - loss: 1.6177e-05\n",
      "Epoch 89/100\n",
      "12s - loss: 1.5732e-05\n",
      "Epoch 90/100\n",
      "12s - loss: 1.6161e-05\n",
      "Epoch 91/100\n",
      "12s - loss: 1.6777e-05\n",
      "Epoch 92/100\n",
      "12s - loss: 1.5437e-05\n",
      "Epoch 93/100\n",
      "13s - loss: 1.5993e-05\n",
      "Epoch 94/100\n",
      "13s - loss: 1.6391e-05\n",
      "Epoch 95/100\n",
      "12s - loss: 1.5521e-05\n",
      "Epoch 96/100\n",
      "13s - loss: 1.6734e-05\n",
      "Epoch 97/100\n",
      "12s - loss: 1.6407e-05\n",
      "Epoch 98/100\n",
      "12s - loss: 1.6008e-05\n",
      "Epoch 99/100\n",
      "12s - loss: 1.6692e-05\n",
      "Epoch 100/100\n",
      "12s - loss: 1.5840e-05\n",
      "Train Score: 2.13 RMSE\n",
      "Test Score: 63.52 RMSE\n"
     ]
    },
    {
     "data": {
      "image/png": "[encoded data removed]",
      "text/plain": [
       "<matplotlib.figure.Figure at 0x4bca3c88>"
      ]
     },
     "metadata": {},
     "output_type": "display_data"
    }
   ],
   "source": [
    "dataset = dataframe.values\n",
    "dataset = dataset.astype('float32')\n",
    "# normalize the dataset\n",
    "scaler = MinMaxScaler(feature_range=(0, 1))\n",
    "dataset = scaler.fit_transform(dataset)\n",
    "# split into train and test sets\n",
    "train_size = int(len(dataset) * 0.67)\n",
    "test_size = len(dataset) - train_size\n",
    "train, test = dataset[0:train_size,:], dataset[train_size:len(dataset),:]\n",
    "# reshape into X=t and Y=t+1\n",
    "look_back = 3\n",
    "trainX, trainY = create_dataset(train, look_back)\n",
    "testX, testY = create_dataset(test, look_back)\n",
    "# reshape input to be [samples, time steps, features]\n",
    "trainX = np.reshape(trainX, (trainX.shape[0], trainX.shape[1], 1))\n",
    "testX = np.reshape(testX, (testX.shape[0], testX.shape[1], 1))\n",
    "# create and fit the LSTM network\n",
    "model = Sequential()\n",
    "model.add(LSTM(4, input_dim=1))\n",
    "model.add(Dense(1))\n",
    "model.compile(loss='mean_squared_error', optimizer='adam')\n",
    "model.fit(trainX, trainY, nb_epoch=100, batch_size=1, verbose=2)\n",
    "# make predictions\n",
    "trainPredict = model.predict(trainX)\n",
    "testPredict = model.predict(testX)\n",
    "# invert predictions\n",
    "trainPredict = scaler.inverse_transform(trainPredict)\n",
    "trainY = scaler.inverse_transform([trainY])\n",
    "testPredict = scaler.inverse_transform(testPredict)\n",
    "testY = scaler.inverse_transform([testY])\n",
    "# calculate root mean squared error\n",
    "trainScore = math.sqrt(mean_squared_error(trainY[0], trainPredict[:,0]))\n",
    "print('Train Score: %.2f RMSE' % (trainScore))\n",
    "testScore = math.sqrt(mean_squared_error(testY[0], testPredict[:,0]))\n",
    "print('Test Score: %.2f RMSE' % (testScore))\n",
    "# shift train predictions for plotting\n",
    "trainPredictPlot = np.empty_like(dataset)\n",
    "trainPredictPlot[:, :] = np.nan\n",
    "trainPredictPlot[look_back:len(trainPredict)+look_back, :] = trainPredict\n",
    "# shift test predictions for plotting\n",
    "testPredictPlot = np.empty_like(dataset)\n",
    "testPredictPlot[:, :] = np.nan\n",
    "testPredictPlot[len(trainPredict)+(look_back*2)+1:len(dataset)-1, :] = testPredict\n",
    "# plot baseline and predictions\n",
    "plt.plot(scaler.inverse_transform(dataset))\n",
    "plt.plot(trainPredictPlot)\n",
    "plt.plot(testPredictPlot)\n",
    "plt.show()"
   ]
  },
  {
   "cell_type": "code",
   "execution_count": null,
   "metadata": {
    "collapsed": true
   },
   "outputs": [],
   "source": []
  }
 ],
 "metadata": {
  "kernelspec": {
   "display_name": "Python 2",
   "language": "python",
   "name": "python2"
  },
  "language_info": {
   "codemirror_mode": {
    "name": "ipython",
    "version": 2
   },
   "file_extension": ".py",
   "mimetype": "text/x-python",
   "name": "python",
   "nbconvert_exporter": "python",
   "pygments_lexer": "ipython2",
   "version": "2.7.12"
  }
 },
 "nbformat": 4,
 "nbformat_minor": 0
}
