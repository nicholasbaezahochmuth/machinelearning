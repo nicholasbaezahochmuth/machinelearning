{
 "cells": [
  {
   "cell_type": "code",
   "execution_count": 1,
   "metadata": {
    "collapsed": true
   },
   "outputs": [],
   "source": [
    "%matplotlib inline\n",
    "import numpy as np\n",
    "import matplotlib.pyplot as plt"
   ]
  },
  {
   "cell_type": "markdown",
   "metadata": {},
   "source": [
    "### Support Vector Machines\n",
    "\n",
    "SVM stands for \"support vector machines\". They are efficient and easy to use estimators. They come in two kinds: SVCs (Support Vector Classifiers) for classification, and SVRs (Support Vector Regressors) for regression.\n",
    "\n",
    "### Linear SVMs\n",
    "\n",
    "The SVM module contains `LinearSVC()`. Using `SVC(kernel = \"linear\")` will also yield a linear predictor different in minor technical aspects.\n",
    "\n",
    "### Kernel SVMs\n",
    "\n",
    "The power of SVMs lies in using *kernels*, which allow for non-linear decision boundaries. A kernal defines a similarity measuer between data points. \n",
    "\n",
    "Some common kernels:\n",
    "* **linear** - will give a linear decision frontier. It is the most computationally efficient approach.\n",
    "* **poly** - will give decision frontiers that are polynomial. The order given by the `order` argument.\n",
    "* **rbf** - uses 'radial basis functions' centered at each support vector to assemble a decision frontier. The size of the RBFs controls the smoothness of the decision frontier. RBFs are the most flexible but require the most data.\n",
    "\n",
    "Predictions in a kernel-SVM are made using the formula:\n",
    "\n",
    "$$ \\hat y = sign(\\alpha_{0} + \\Sigma_{j} \\alpha_{j} y_{j} k(x^{(j)}, x)) $$\n",
    "\n",
    "where $x^{(j)}$ are training samples, $y^{(j)}$ the corresponding labels, $x$ is a test-sample to predict on, $k$ is the kernel, and $\\alpha$ are learned parameters.\n",
    "\n",
    "The most important parameter of the SVM is the regularization parameter C, which bounds the influence of each individual sample:\n",
    "\n",
    "* Low C values: many support vectors\n",
    "* High C values: small number of support vectors\n",
    "\n",
    "The other important parameters are in the kernel. Lets look at the RBF kernel in more detail:\n",
    "\n",
    "$$ k(x, x') = exp(-\\gamma || x - x' ||^{2})$$"
   ]
  },
  {
   "cell_type": "code",
   "execution_count": 2,
   "metadata": {
    "collapsed": false
   },
   "outputs": [
    {
     "data": {
      "text/plain": [
       "[<matplotlib.lines.Line2D at 0x8b63278>]"
      ]
     },
     "execution_count": 2,
     "metadata": {},
     "output_type": "execute_result"
    },
    {
     "data": {
      "image/png": "[encoded data removed]",
      "text/plain": [
       "<matplotlib.figure.Figure at 0x7082f98>"
      ]
     },
     "metadata": {},
     "output_type": "display_data"
    }
   ],
   "source": [
    "from sklearn.metrics.pairwise import rbf_kernel\n",
    "\n",
    "line = np.linspace(-3, 3, 100)[:, np.newaxis]\n",
    "kernel_value = rbf_kernel(line, [[0]], gamma=1)\n",
    "plt.plot(line, kernel_value)"
   ]
  },
  {
   "cell_type": "code",
   "execution_count": 7,
   "metadata": {
    "collapsed": true
   },
   "outputs": [],
   "source": [
    "# %load figures/plot_2d_separator.py\n",
    "import numpy as np\n",
    "import matplotlib.pyplot as plt\n",
    "\n",
    "global plot_2d_separator\n",
    "def plot_2d_separator(classifier, X, fill=False, ax=None, eps=None):\n",
    "    if eps is None:\n",
    "        eps = X.std() / 2.\n",
    "    x_min, x_max = X[:, 0].min() - eps, X[:, 0].max() + eps\n",
    "    y_min, y_max = X[:, 1].min() - eps, X[:, 1].max() + eps\n",
    "    xx = np.linspace(x_min, x_max, 100)\n",
    "    yy = np.linspace(y_min, y_max, 100)\n",
    "\n",
    "    X1, X2 = np.meshgrid(xx, yy)\n",
    "    X_grid = np.c_[X1.ravel(), X2.ravel()]\n",
    "    try:\n",
    "        decision_values = classifier.decision_function(X_grid)\n",
    "        levels = [0]\n",
    "        fill_levels = [decision_values.min(), 0, decision_values.max()]\n",
    "    except AttributeError:\n",
    "        # no decision_function\n",
    "        decision_values = classifier.predict_proba(X_grid)[:, 1]\n",
    "        levels = [.5]\n",
    "        fill_levels = [0, .5, 1]\n",
    "\n",
    "    if ax is None:\n",
    "        ax = plt.gca()\n",
    "    if fill:\n",
    "        ax.contourf(X1, X2, decision_values.reshape(X1.shape),\n",
    "                    levels=fill_levels, colors=['blue', 'red'])\n",
    "    else:\n",
    "        ax.contour(X1, X2, decision_values.reshape(X1.shape), levels=levels,\n",
    "                   colors=\"black\")\n",
    "    ax.set_xlim(x_min, x_max)\n",
    "    ax.set_ylim(y_min, y_max)\n",
    "    ax.set_xticks(())\n",
    "    ax.set_yticks(())\n",
    "\n",
    "\n",
    "#if __name__ == '__main__':\n",
    "#    from sklearn.datasets import make_blobs\n",
    "#    from sklearn.linear_model import LogisticRegression\n",
    "#    X, y = make_blobs(centers=2, random_state=42)\n",
    "#    clf = LogisticRegression().fit(X, y)\n",
    "#    plot_2d_separator(clf, X, fill=True)\n",
    "#    plt.scatter(X[:, 0], X[:, 1], c=y)\n",
    "#    plt.show()"
   ]
  },
  {
   "cell_type": "code",
   "execution_count": 8,
   "metadata": {
    "collapsed": false
   },
   "outputs": [],
   "source": [
    "# %load figures/plot_svm_interactive\n",
    "import matplotlib.pyplot as plt\n",
    "import numpy as np\n",
    "from sklearn.svm import SVC\n",
    "from sklearn.datasets import make_blobs\n",
    "#from .plot_2d_separator import plot_2d_separator\n",
    "\n",
    "\n",
    "def make_handcrafted_dataset():\n",
    "    # a carefully hand-designed dataset lol\n",
    "    X, y = make_blobs(centers=2, random_state=4, n_samples=30)\n",
    "    y[np.array([7, 27])] = 0\n",
    "    mask = np.ones(len(X), dtype=np.bool)\n",
    "    mask[np.array([0, 1, 5, 26])] = 0\n",
    "    X, y = X[mask], y[mask]\n",
    "    return X, y\n",
    "\n",
    "\n",
    "def plot_rbf_svm_parameters():\n",
    "    X, y = make_handcrafted_dataset()\n",
    "\n",
    "    fig, axes = plt.subplots(1, 3, figsize=(12, 4))\n",
    "    for ax, C in zip(axes, [1e0, 5, 10, 100]):\n",
    "        ax.scatter(X[:, 0], X[:, 1], s=150, c=np.array(['red', 'blue'])[y])\n",
    "\n",
    "        svm = SVC(kernel='rbf', C=C).fit(X, y)\n",
    "        plot_2d_separator(svm, X, ax=ax, eps=.5)\n",
    "        ax.set_title(\"C = %f\" % C)\n",
    "\n",
    "    fig, axes = plt.subplots(1, 4, figsize=(15, 3))\n",
    "    for ax, gamma in zip(axes, [0.1, .5, 1, 10]):\n",
    "        ax.scatter(X[:, 0], X[:, 1], s=150, c=np.array(['red', 'blue'])[y])\n",
    "        svm = SVC(gamma=gamma, kernel='rbf', C=1).fit(X, y)\n",
    "        plot_2d_separator(svm, X, ax=ax, eps=.5)\n",
    "        ax.set_title(\"gamma = %f\" % gamma)\n",
    "\n",
    "\n",
    "def plot_svm(log_C, log_gamma):\n",
    "    X, y = make_handcrafted_dataset()\n",
    "    C = 10. ** log_C\n",
    "    gamma = 10. ** log_gamma\n",
    "    svm = SVC(kernel='rbf', C=C, gamma=gamma).fit(X, y)\n",
    "    ax = plt.gca()\n",
    "    plot_2d_separator(svm, X, ax=ax, eps=.5)\n",
    "    # plot data\n",
    "    ax.scatter(X[:, 0], X[:, 1], s=150, c=np.array(['red', 'blue'])[y])\n",
    "    # plot support vectors\n",
    "    sv = svm.support_vectors_\n",
    "    ax.scatter(sv[:, 0], sv[:, 1], s=230, facecolors='none', zorder=10, linewidth=3)\n",
    "    ax.set_title(\"C = %.4f gamma = %.4f\" % (C, gamma))\n",
    "\n",
    "\n",
    "def plot_svm_interactive():\n",
    "    from IPython.html.widgets import interactive, FloatSlider\n",
    "    C_slider = FloatSlider(min=-3, max=3, step=.1, value=0, readout=False)\n",
    "    gamma_slider = FloatSlider(min=-2, max=2, step=.1, value=0, readout=False)\n",
    "    return interactive(plot_svm, log_C=C_slider, log_gamma=gamma_slider)\n",
    "    \n"
   ]
  },
  {
   "cell_type": "code",
   "execution_count": 10,
   "metadata": {
    "collapsed": false
   },
   "outputs": [
    {
     "data": {
      "image/png": "[encoded data removed]",
      "text/plain": [
       "<matplotlib.figure.Figure at 0xb388240>"
      ]
     },
     "metadata": {},
     "output_type": "display_data"
    }
   ],
   "source": [
    "plot_svm_interactive()"
   ]
  },
  {
   "cell_type": "code",
   "execution_count": null,
   "metadata": {
    "collapsed": true
   },
   "outputs": [],
   "source": []
  }
 ],
 "metadata": {
  "kernelspec": {
   "display_name": "Python 2",
   "language": "python",
   "name": "python2"
  },
  "language_info": {
   "codemirror_mode": {
    "name": "ipython",
    "version": 2
   },
   "file_extension": ".py",
   "mimetype": "text/x-python",
   "name": "python",
   "nbconvert_exporter": "python",
   "pygments_lexer": "ipython2",
   "version": "2.7.12"
  }
 },
 "nbformat": 4,
 "nbformat_minor": 0
}
